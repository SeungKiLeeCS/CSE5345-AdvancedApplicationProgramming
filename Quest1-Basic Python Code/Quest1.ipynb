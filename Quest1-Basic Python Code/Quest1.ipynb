{
 "cells": [
  {
   "cell_type": "markdown",
   "metadata": {},
   "source": [
    "# CSE 5345 Quest 1\n",
    "\n",
    "Basic Python Quest\n",
    "\n",
    "__STUDENT_ID__  = \"35460312\"\n",
    "\n",
    "__CODING_NAME__ = \"MonsterPeach\""
   ]
  },
  {
   "cell_type": "markdown",
   "metadata": {},
   "source": [
    "## 1. `isSorted(list)`\n",
    "\n",
    "Iterate through the list and see if value of the left is ever greater than the right"
   ]
  },
  {
   "cell_type": "code",
   "execution_count": 1,
   "metadata": {},
   "outputs": [],
   "source": [
    "def isSorted(list):\n",
    "    \n",
    "    for i in range (len(list)-1):\n",
    "        if list[i] > list[i+1]:\n",
    "            return False\n",
    "    return True"
   ]
  },
  {
   "cell_type": "code",
   "execution_count": 2,
   "metadata": {},
   "outputs": [
    {
     "name": "stdout",
     "output_type": "stream",
     "text": [
      "True\n",
      "True\n",
      "False\n"
     ]
    }
   ],
   "source": [
    "print(isSorted([2,4,7,7,99,122]))\n",
    "print(isSorted(['a', 'b', 'c']))\n",
    "print(isSorted(['a', 'z', 'b', 'c']))"
   ]
  },
  {
   "cell_type": "markdown",
   "metadata": {},
   "source": [
    "## 2. `hasUniqueValues(list)`\n",
    "\n",
    "Put every element of a list into a dictionary as keys, then check the number of keys against number of elements."
   ]
  },
  {
   "cell_type": "code",
   "execution_count": 3,
   "metadata": {},
   "outputs": [],
   "source": [
    "def hasUniqueValues(list):\n",
    "    \n",
    "    return len({}.fromkeys(list)) == len(list)"
   ]
  },
  {
   "cell_type": "code",
   "execution_count": 4,
   "metadata": {},
   "outputs": [
    {
     "name": "stdout",
     "output_type": "stream",
     "text": [
      "False\n",
      "True\n",
      "False\n"
     ]
    }
   ],
   "source": [
    "print(hasUniqueValues([2,4,7,99,122, 7]))\n",
    "print(hasUniqueValues(['a', 'b', 'c']))\n",
    "print(hasUniqueValues(['a', 'z', 'b', 'c', 'c']))"
   ]
  },
  {
   "cell_type": "markdown",
   "metadata": {},
   "source": [
    "## 3. `isSortedAndUnique(list)`\n",
    "\n",
    "Just utilize two functions above"
   ]
  },
  {
   "cell_type": "code",
   "execution_count": 5,
   "metadata": {},
   "outputs": [],
   "source": [
    "def isSortedAndUnique(list):\n",
    "    \n",
    "    return isSorted(list) and hasUniqueValues(list)"
   ]
  },
  {
   "cell_type": "code",
   "execution_count": 6,
   "metadata": {},
   "outputs": [
    {
     "name": "stdout",
     "output_type": "stream",
     "text": [
      "False\n",
      "True\n",
      "False\n"
     ]
    }
   ],
   "source": [
    "print(isSortedAndUnique([2,4,7,7,99,122]))\n",
    "print(isSortedAndUnique(['a','b','c']))\n",
    "print(isSortedAndUnique(['a','z','b','b','c']))"
   ]
  },
  {
   "cell_type": "markdown",
   "metadata": {},
   "source": [
    "## 4. `genSortedArrayUniqueValues(list)`\n",
    "\n",
    "use fromkeys of dictionary to eleminate duplicates, then sort and return the list\n",
    "\n",
    "\n",
    "> Dr. Coyle, I am using the sorted() function here because it does not apprear in the constraints for this function.\n",
    "If you would like me to write my own sort functions, I would be happy to do it. Please let me know."
   ]
  },
  {
   "cell_type": "code",
   "execution_count": 7,
   "metadata": {},
   "outputs": [],
   "source": [
    "def genSortedArrayUniqueValues(list):\n",
    "    \n",
    "    return_list = []\n",
    "    \n",
    "    for key in {}.fromkeys(list):\n",
    "        return_list.append(key)\n",
    "    \n",
    "    return sorted(return_list)"
   ]
  },
  {
   "cell_type": "code",
   "execution_count": 8,
   "metadata": {},
   "outputs": [
    {
     "name": "stdout",
     "output_type": "stream",
     "text": [
      "[2, 4, 7, 99, 122]\n",
      "['a', 'b', 'c', 'z']\n"
     ]
    }
   ],
   "source": [
    "print(genSortedArrayUniqueValues([2,4,7,7,122,99]))\n",
    "print(genSortedArrayUniqueValues(['a','b','z','c', 'a']))"
   ]
  },
  {
   "cell_type": "markdown",
   "metadata": {},
   "source": [
    "## 5. `listToMapTwoByTwo(list)`\n",
    "\n",
    "check the size of the list, then even items in the list will be key, odd items will be value"
   ]
  },
  {
   "cell_type": "code",
   "execution_count": 9,
   "metadata": {},
   "outputs": [],
   "source": [
    "def listToMapTwoByTwo(list):\n",
    "    \n",
    "    return_dict = {}\n",
    "    \n",
    "    if len(list) > 1:\n",
    "        for i in range (len(list)-1):\n",
    "            if i%2 == 0:\n",
    "                return_dict[list[i]] = list[i+1]\n",
    "    \n",
    "    return return_dict"
   ]
  },
  {
   "cell_type": "code",
   "execution_count": 10,
   "metadata": {},
   "outputs": [
    {
     "name": "stdout",
     "output_type": "stream",
     "text": [
      "{'foo': 'bar'}\n",
      "{'a': 2, 3: 'foo'}\n",
      "{}\n"
     ]
    }
   ],
   "source": [
    "print(listToMapTwoByTwo(['foo','bar']))\n",
    "print(listToMapTwoByTwo(['a',2, 3,'foo']))\n",
    "print(listToMapTwoByTwo([]))"
   ]
  },
  {
   "cell_type": "markdown",
   "metadata": {},
   "source": [
    "## 6. `wordsInStringToDictWordCount(str)`\n",
    "\n",
    "Split the string by whitespace character and put them in a list. For every item in the list, if the item is already in the dictionary add to its count. If not, set its count to 1. Return the count."
   ]
  },
  {
   "cell_type": "code",
   "execution_count": 11,
   "metadata": {},
   "outputs": [],
   "source": [
    "def wordsInStringToDictWordCount(str):\n",
    "    \n",
    "    return_dict = {}\n",
    "    \n",
    "    if len(str) > 1:        \n",
    "        temp_list = str.split()\n",
    "        \n",
    "        for i in temp_list:\n",
    "            if i in return_dict:\n",
    "                return_dict[i] += 1\n",
    "            else:\n",
    "                return_dict[i] = 1\n",
    "                \n",
    "    return return_dict"
   ]
  },
  {
   "cell_type": "code",
   "execution_count": 12,
   "metadata": {},
   "outputs": [
    {
     "name": "stdout",
     "output_type": "stream",
     "text": [
      "{'foo': 1, 'bar': 2}\n",
      "{}\n"
     ]
    }
   ],
   "source": [
    "print(wordsInStringToDictWordCount(\"foo bar   bar\"))\n",
    "print(wordsInStringToDictWordCount(''))"
   ]
  },
  {
   "cell_type": "markdown",
   "metadata": {},
   "source": [
    "## 7. `reverseWordsInString(str)`\n",
    "\n",
    "Split by whitespace and put str into a list, reverse the list using [::-1], then join the list as char. Make sure to leave a space between the joined items"
   ]
  },
  {
   "cell_type": "code",
   "execution_count": 13,
   "metadata": {},
   "outputs": [],
   "source": [
    "def reverseWordsInString(str):\n",
    "    \n",
    "    temp_list = str.split()\n",
    "    temp_list = temp_list[::-1]\n",
    "    \n",
    "    return ' '.join(temp_list)"
   ]
  },
  {
   "cell_type": "code",
   "execution_count": 14,
   "metadata": {},
   "outputs": [
    {
     "name": "stdout",
     "output_type": "stream",
     "text": [
      "baz bar bar foo\n"
     ]
    }
   ],
   "source": [
    "print(reverseWordsInString('foo bar bar baz'))"
   ]
  },
  {
   "cell_type": "markdown",
   "metadata": {},
   "source": [
    "## 8. `def genListOfOverlaps(list1, list2)`\n",
    "\n",
    "Put unique items of list1 into a dict. \n",
    "Put unique items of list2 into the dict using word counter. \n",
    "Return a list with value  = 2\n",
    "\n",
    "Dr. Coyle, \n",
    "\n",
    "If I can use set it would be much shorter... \n",
    "but I am not sure if set is one of the constraints for this function. If you would like a better big(o), please let me know and I will happily write the function using intersection."
   ]
  },
  {
   "cell_type": "code",
   "execution_count": 15,
   "metadata": {},
   "outputs": [],
   "source": [
    "def genListOfOverlaps(list1, list2):\n",
    "    \n",
    "    return_list = []\n",
    "    temp_dict = {}\n",
    "    \n",
    "    for i in list1:\n",
    "        if i not in temp_dict:\n",
    "            temp_dict[i] = 1\n",
    "    for i in {}.fromkeys(list2):\n",
    "        if i in temp_dict:\n",
    "            temp_dict[i] += 1\n",
    "        else:\n",
    "            temp_dict[i] = 1\n",
    "\n",
    "    for key in temp_dict:\n",
    "        if temp_dict[key] == 2:\n",
    "            return_list.append(key)\n",
    "            \n",
    "    return return_list"
   ]
  },
  {
   "cell_type": "code",
   "execution_count": 16,
   "metadata": {},
   "outputs": [
    {
     "name": "stdout",
     "output_type": "stream",
     "text": [
      "[2, 6]\n",
      "[2, 4, 6, 8]\n",
      "[]\n"
     ]
    }
   ],
   "source": [
    "print(genListOfOverlaps([2,4,6,8],[6,2,2,9,7]))\n",
    "print(genListOfOverlaps([2,4,6,8],[2,4,6,8]))\n",
    "print(genListOfOverlaps([2,4,6,8],[1,1,9,7]))"
   ]
  },
  {
   "cell_type": "markdown",
   "metadata": {},
   "source": [
    "## 9. `def removeDupsNoSet(list):`\n",
    "\n",
    "use {}.fromkeys(list) and append them to a new list"
   ]
  },
  {
   "cell_type": "code",
   "execution_count": 17,
   "metadata": {},
   "outputs": [],
   "source": [
    "def removeDupsNoSet(list):\n",
    "    \n",
    "    return_list = []\n",
    "    \n",
    "    for i in {}.fromkeys(list):\n",
    "        return_list.append(i)\n",
    "    \n",
    "    return return_list"
   ]
  },
  {
   "cell_type": "code",
   "execution_count": 18,
   "metadata": {},
   "outputs": [
    {
     "name": "stdout",
     "output_type": "stream",
     "text": [
      "[1, 2, 5, 6]\n"
     ]
    }
   ],
   "source": [
    "print(removeDupsNoSet([1,1,2,2,5,6]))"
   ]
  },
  {
   "cell_type": "markdown",
   "metadata": {},
   "source": [
    "## 10. `removeDupsUseSet(list1):`\n",
    "\n",
    "One Liner"
   ]
  },
  {
   "cell_type": "code",
   "execution_count": 19,
   "metadata": {},
   "outputs": [],
   "source": [
    "def removeDupsUseSet(list1):\n",
    "    \n",
    "    return list(set(list1))"
   ]
  },
  {
   "cell_type": "code",
   "execution_count": 20,
   "metadata": {},
   "outputs": [
    {
     "data": {
      "text/plain": [
       "[1, 2, 5, 6]"
      ]
     },
     "execution_count": 20,
     "metadata": {},
     "output_type": "execute_result"
    }
   ],
   "source": [
    "removeDupsUseSet([1,1,2,2,5,6])"
   ]
  }
 ],
 "metadata": {
  "kernelspec": {
   "display_name": "Python 3",
   "language": "python",
   "name": "python3"
  },
  "language_info": {
   "codemirror_mode": {
    "name": "ipython",
    "version": 3
   },
   "file_extension": ".py",
   "mimetype": "text/x-python",
   "name": "python",
   "nbconvert_exporter": "python",
   "pygments_lexer": "ipython3",
   "version": "3.6.4"
  }
 },
 "nbformat": 4,
 "nbformat_minor": 2
}
