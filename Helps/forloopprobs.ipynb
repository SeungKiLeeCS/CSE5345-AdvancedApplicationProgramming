{
 "cells": [
  {
   "cell_type": "markdown",
   "metadata": {},
   "source": [
    "## 1번"
   ]
  },
  {
   "cell_type": "code",
   "execution_count": 1,
   "metadata": {},
   "outputs": [],
   "source": [
    "def sum_even(number):\n",
    "    # List Comprehension을 사용\n",
    "    print(\"숫자 입력: {}\\n1~{}까지 짝수의 합은 {}입니다.\".format(number, number, sum([x for x in range(1, number) if x%2 == 0])))"
   ]
  },
  {
   "cell_type": "code",
   "execution_count": 2,
   "metadata": {},
   "outputs": [
    {
     "name": "stdout",
     "output_type": "stream",
     "text": [
      "숫자 입력: 5\n",
      "1~5까지 짝수의 합은 6입니다.\n"
     ]
    }
   ],
   "source": [
    "sum_even(5)"
   ]
  },
  {
   "cell_type": "markdown",
   "metadata": {},
   "source": [
    "## 2번"
   ]
  },
  {
   "cell_type": "code",
   "execution_count": 3,
   "metadata": {},
   "outputs": [],
   "source": [
    "def common_multiple_and_sum():\n",
    "    total = 0\n",
    "    last = 0\n",
    "    i = 0\n",
    "    # 어차피 end condition이 1000 초과로 잡혀있으면 200을 쓸 이유가 없음\n",
    "    while total < 1001:\n",
    "        if i%3 == 0 and i%4 == 0:\n",
    "            total += i\n",
    "            last = i\n",
    "        i += 1\n",
    "    print(\"누적된 수: {}\\n더한 수: {}\".format(total, last))"
   ]
  },
  {
   "cell_type": "code",
   "execution_count": 4,
   "metadata": {},
   "outputs": [
    {
     "name": "stdout",
     "output_type": "stream",
     "text": [
      "누적된 수: 1092\n",
      "더한 수: 156\n"
     ]
    }
   ],
   "source": [
    "common_multiple_and_sum()"
   ]
  },
  {
   "cell_type": "markdown",
   "metadata": {},
   "source": [
    "## 3번"
   ]
  },
  {
   "cell_type": "code",
   "execution_count": 5,
   "metadata": {},
   "outputs": [],
   "source": [
    "def reverse_print():\n",
    "    for i in range(100, 0, -1):\n",
    "        if i%5 == 0 and i%3 == 0:\n",
    "            # /n이 아니라 whitespace를 끝에 넣음\n",
    "            print(\"<{}>\".format(str(i)), end=\" \")\n",
    "        elif i%5 == 0:\n",
    "            print(i, end=\" \")\n",
    "        elif i%3 == 0:\n",
    "            print(i, end=\" \")"
   ]
  },
  {
   "cell_type": "code",
   "execution_count": 6,
   "metadata": {},
   "outputs": [
    {
     "name": "stdout",
     "output_type": "stream",
     "text": [
      "100 99 96 95 93 <90> 87 85 84 81 80 78 <75> 72 70 69 66 65 63 <60> 57 55 54 51 50 48 <45> 42 40 39 36 35 33 <30> 27 25 24 21 20 18 <15> 12 10 9 6 5 3 "
     ]
    }
   ],
   "source": [
    "reverse_print()"
   ]
  },
  {
   "cell_type": "markdown",
   "metadata": {},
   "source": [
    "## 4번"
   ]
  },
  {
   "cell_type": "code",
   "execution_count": 7,
   "metadata": {},
   "outputs": [],
   "source": [
    "def single_for_mult():\n",
    "    mult = range(1,10)\n",
    "    for i in range(2, 9):\n",
    "        print(*(map(lambda x:i*x, mult)), sep=\" \")"
   ]
  },
  {
   "cell_type": "code",
   "execution_count": 8,
   "metadata": {},
   "outputs": [
    {
     "name": "stdout",
     "output_type": "stream",
     "text": [
      "2 4 6 8 10 12 14 16 18\n",
      "3 6 9 12 15 18 21 24 27\n",
      "4 8 12 16 20 24 28 32 36\n",
      "5 10 15 20 25 30 35 40 45\n",
      "6 12 18 24 30 36 42 48 54\n",
      "7 14 21 28 35 42 49 56 63\n",
      "8 16 24 32 40 48 56 64 72\n"
     ]
    }
   ],
   "source": [
    "single_for_mult()"
   ]
  },
  {
   "cell_type": "markdown",
   "metadata": {},
   "source": [
    "혹은 하드코드할 수도 있죠"
   ]
  },
  {
   "cell_type": "code",
   "execution_count": 9,
   "metadata": {},
   "outputs": [],
   "source": [
    "def hardcoded():\n",
    "    for i in range(2,9):\n",
    "        print(i*1, end=\" \")\n",
    "        print(i*2, end=\" \")\n",
    "        print(i*3, end=\" \")\n",
    "        print(i*4, end=\" \")\n",
    "        print(i*5, end=\" \")\n",
    "        print(i*6, end=\" \")\n",
    "        print(i*7, end=\" \")\n",
    "        print(i*8, end=\" \")\n",
    "        print(i*9)"
   ]
  },
  {
   "cell_type": "code",
   "execution_count": 10,
   "metadata": {},
   "outputs": [
    {
     "name": "stdout",
     "output_type": "stream",
     "text": [
      "2 4 6 8 10 12 14 16 18\n",
      "3 6 9 12 15 18 21 24 27\n",
      "4 8 12 16 20 24 28 32 36\n",
      "5 10 15 20 25 30 35 40 45\n",
      "6 12 18 24 30 36 42 48 54\n",
      "7 14 21 28 35 42 49 56 63\n",
      "8 16 24 32 40 48 56 64 72\n"
     ]
    }
   ],
   "source": [
    "hardcoded()"
   ]
  }
 ],
 "metadata": {
  "kernelspec": {
   "display_name": "Python 3",
   "language": "python",
   "name": "python3"
  },
  "language_info": {
   "codemirror_mode": {
    "name": "ipython",
    "version": 3
   },
   "file_extension": ".py",
   "mimetype": "text/x-python",
   "name": "python",
   "nbconvert_exporter": "python",
   "pygments_lexer": "ipython3",
   "version": "3.6.4"
  }
 },
 "nbformat": 4,
 "nbformat_minor": 2
}
