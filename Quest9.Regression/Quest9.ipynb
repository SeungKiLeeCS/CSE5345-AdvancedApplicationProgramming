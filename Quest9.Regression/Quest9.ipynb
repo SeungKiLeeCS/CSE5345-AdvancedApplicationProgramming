{
 "cells": [
  {
   "cell_type": "markdown",
   "metadata": {},
   "source": [
    "# Quest 9. Linear Regression\n",
    "\n",
    "## Import CSV and Compose X and Y"
   ]
  },
  {
   "cell_type": "code",
   "execution_count": 1,
   "metadata": {},
   "outputs": [],
   "source": [
    "import pandas as pd\n",
    "import numpy as np\n",
    "from scipy.stats import linregress\n",
    "from sklearn.linear_model import LinearRegression as linreg\n",
    "from scipy.stats import linregress"
   ]
  },
  {
   "cell_type": "code",
   "execution_count": 2,
   "metadata": {},
   "outputs": [],
   "source": [
    "df = pd.read_csv(\"./q9data.csv\", names=[\"y\", \"x\"])"
   ]
  },
  {
   "cell_type": "code",
   "execution_count": 3,
   "metadata": {},
   "outputs": [],
   "source": [
    "Y_skl = np.asarray(df[\"y\"].tolist()).reshape(-1, 1)\n",
    "X_skl = np.asarray(df[\"x\"].tolist()).reshape(-1, 1)\n",
    "Y_sci = df[\"y\"].tolist()\n",
    "X_sci = df[\"x\"].tolist()"
   ]
  },
  {
   "cell_type": "markdown",
   "metadata": {},
   "source": [
    "## Computational Using Scikit Learn"
   ]
  },
  {
   "cell_type": "code",
   "execution_count": 4,
   "metadata": {},
   "outputs": [
    {
     "name": "stdout",
     "output_type": "stream",
     "text": [
      "m_skl: 0.23872348094631837, m_skl: -0.2761803298869634\n"
     ]
    }
   ],
   "source": [
    "lin_reg = linreg()\n",
    "reg = lin_reg.fit(X_skl,Y_skl)\n",
    "\n",
    "m_skl = reg.coef_\n",
    "b_skl = reg.intercept_\n",
    "\n",
    "print(\"m_skl: {}, m_skl: {}\".format(m_skl[0][0], b_skl[0]))"
   ]
  },
  {
   "cell_type": "code",
   "execution_count": 5,
   "metadata": {},
   "outputs": [
    {
     "name": "stdout",
     "output_type": "stream",
     "text": [
      "m_sci: 0.23872348094631846, b_sci: -0.2761803298869643\n"
     ]
    }
   ],
   "source": [
    "m_sci, b_sci, r_sci, p_sci, std_sci = linregress(X_sci, Y_sci)\n",
    "\n",
    "print(\"m_sci: {}, b_sci: {}\".format(m_sci, b_sci))"
   ]
  },
  {
   "cell_type": "markdown",
   "metadata": {},
   "source": [
    "## Gradient Descent"
   ]
  },
  {
   "cell_type": "code",
   "execution_count": 6,
   "metadata": {},
   "outputs": [],
   "source": [
    "def step_gradient(b_current, m_current, points, learning_rate):\n",
    "    N = len(points)\n",
    "    m_gradient = sum([-x*(y-(m_current*x+b_current)) for x,y in points])*(2/N)\n",
    "    b_gradient = sum([-1*(y-(m_current*x+b_current)) for x,y in points])*(2/N)\n",
    "    new_m = m_current - (m_gradient * learning_rate)\n",
    "    new_b = b_current - (b_gradient * learning_rate)\n",
    "    return [new_b, new_m]\n",
    "\n",
    "def gradient_descent_runner(starting_b, starting_m, points, learning_rate, num_iterations):\n",
    "    b = starting_b\n",
    "    m = starting_m\n",
    "    for i in range(num_iterations):\n",
    "        b, m = step_gradient(b, m, points, learning_rate)\n",
    "    return [b, m]"
   ]
  },
  {
   "cell_type": "markdown",
   "metadata": {},
   "source": [
    "To find optimal initial point to start, I took a straight line between starting point and ending point as initial slope. For initial intercept, I checked if there were any value that was close to 0, and had the y value at that index = b."
   ]
  },
  {
   "cell_type": "code",
   "execution_count": 7,
   "metadata": {},
   "outputs": [
    {
     "name": "stdout",
     "output_type": "stream",
     "text": [
      "0.2153492955965512 0.06488205326977113\n"
     ]
    }
   ],
   "source": [
    "# Run the code below to get the optimal starting b, at Y_sci[51]\n",
    "# for i in X_sci:\n",
    "#     if i > -0.5 and i < 0.5:\n",
    "#         print(i)\n",
    "#         print(X_sci.index(i))\n",
    "\n",
    "\n",
    "m_i = (Y_sci[len(Y_sci)-1] - Y_sci[0])/(X_sci[len(X_sci)-1] - X_sci[0])\n",
    "b_i = Y_sci[51]\n",
    "\n",
    "print(m_i, b_i)"
   ]
  },
  {
   "cell_type": "code",
   "execution_count": 8,
   "metadata": {},
   "outputs": [],
   "source": [
    "points = list(zip(Y_sci, X_sci))"
   ]
  },
  {
   "cell_type": "markdown",
   "metadata": {},
   "source": [
    "This is if I have rather large learning rate (steps)"
   ]
  },
  {
   "cell_type": "code",
   "execution_count": 9,
   "metadata": {},
   "outputs": [
    {
     "name": "stdout",
     "output_type": "stream",
     "text": [
      "m_gd: 4.002335281777339, b_gd: 1.5242982057056518\n"
     ]
    }
   ],
   "source": [
    "b_gd, m_gd = gradient_descent_runner(b_i, m_i, points, 0.001, 1000)\n",
    "print(\"m_gd: {}, b_gd: {}\".format(m_gd, b_gd))"
   ]
  },
  {
   "cell_type": "markdown",
   "metadata": {},
   "source": [
    "This is if I have very small learning rate"
   ]
  },
  {
   "cell_type": "code",
   "execution_count": 10,
   "metadata": {},
   "outputs": [
    {
     "name": "stdout",
     "output_type": "stream",
     "text": [
      "m_gd: 0.21539553815587845, b_gd: 0.06489987882107316\n"
     ]
    }
   ],
   "source": [
    "b_gd, m_gd = gradient_descent_runner(b_i, m_i, points, 0.000000001, 1000)\n",
    "print(\"m_gd: {}, b_gd: {}\".format(m_gd, b_gd))"
   ]
  },
  {
   "cell_type": "markdown",
   "metadata": {},
   "source": [
    "Now, to my optimal value."
   ]
  },
  {
   "cell_type": "code",
   "execution_count": 11,
   "metadata": {},
   "outputs": [
    {
     "name": "stdout",
     "output_type": "stream",
     "text": [
      "m_gd: 0.2380556161390824, b_gd: 0.07363486997903128\n"
     ]
    }
   ],
   "source": [
    "b_gd, m_gd = gradient_descent_runner(b_i, m_i, points, 0.0000004925, 1000)\n",
    "print(\"m_gd: {}, b_gd: {}\".format(m_gd, b_gd))"
   ]
  },
  {
   "cell_type": "markdown",
   "metadata": {},
   "source": [
    "I can see that by having extremely small learning rate my m and b values will converge to my starting m and b values. with large learning rate, it just grows. This is especially true for m. I predict this is from having x in the calculation function for m, resulting it to have larger scalar value compared to b which only contains -1.\n",
    "\n",
    "Also, since the value converges to the initial at best and does not go below that, the only way to come up with a close estimate is if I alter the initial b to start at negative value. B value will never decrement from the initial value and only increase. Therefore without altering the original function from class, the only way to get close to the target value is if I start below the target B value."
   ]
  },
  {
   "cell_type": "code",
   "execution_count": 12,
   "metadata": {},
   "outputs": [],
   "source": [
    "# For instance, if I use this, I can almost exactly overlap my line with the scipy line.\n",
    "# b_gd, m_gd = gradient_descent_runner(-0.2848, m_i, points, 0.0000004925, 1000)"
   ]
  },
  {
   "cell_type": "markdown",
   "metadata": {},
   "source": [
    "## Plot"
   ]
  },
  {
   "cell_type": "code",
   "execution_count": 13,
   "metadata": {},
   "outputs": [],
   "source": [
    "from matplotlib import pyplot as plt"
   ]
  },
  {
   "cell_type": "code",
   "execution_count": 14,
   "metadata": {},
   "outputs": [],
   "source": [
    "def line_from_mb(slope, intercept, linetype, color):\n",
    "    \"\"\"Plot a line from slope and intercept\"\"\"\n",
    "    axes = plt.gca()\n",
    "    x_vals = np.array(axes.get_xlim())\n",
    "    y_vals = intercept + slope * x_vals\n",
    "    plt.plot(x_vals, y_vals, linetype, color=color)"
   ]
  },
  {
   "cell_type": "code",
   "execution_count": 15,
   "metadata": {},
   "outputs": [
    {
     "data": {
      "image/png": "[encoded data removed]",
      "text/plain": [
       "<matplotlib.figure.Figure at 0x7ff228db9a90>"
      ]
     },
     "metadata": {},
     "output_type": "display_data"
    }
   ],
   "source": [
    "fig = plt.figure(figsize=(16,10))\n",
    "ax = fig.add_subplot(111)\n",
    "plt.xlabel(\"X\")\n",
    "plt.ylabel(\"Y\")\n",
    "plt.scatter(X_sci, Y_sci)\n",
    "line_from_mb(m_gd, b_gd, '--', 'g')\n",
    "ax.annotate('Gradient Descent\\nm = 0.2380556161390824\\nb = 0.07363486997903128', \n",
    "            xy=(2, 0.7), xytext=(2, 1.5),\n",
    "            arrowprops=dict(facecolor='black', shrink=0.05),\n",
    "            )\n",
    "line_from_mb(m_sci, b_sci, ':', 'r')\n",
    "ax.annotate('Computational Scipy\\nm = 0.23872348094631846\\nb = -0.2761803298869643', \n",
    "            xy=(10.5, 2.2), xytext=(10.5, 1.2),\n",
    "            arrowprops=dict(facecolor='black', shrink=0.05),\n",
    "            )\n",
    "\n",
    "plt.show()"
   ]
  },
  {
   "cell_type": "code",
   "execution_count": null,
   "metadata": {},
   "outputs": [],
   "source": []
  }
 ],
 "metadata": {
  "kernelspec": {
   "display_name": "Python 3",
   "language": "python",
   "name": "python3"
  },
  "language_info": {
   "codemirror_mode": {
    "name": "ipython",
    "version": 3
   },
   "file_extension": ".py",
   "mimetype": "text/x-python",
   "name": "python",
   "nbconvert_exporter": "python",
   "pygments_lexer": "ipython3",
   "version": "3.6.4"
  }
 },
 "nbformat": 4,
 "nbformat_minor": 2
}
