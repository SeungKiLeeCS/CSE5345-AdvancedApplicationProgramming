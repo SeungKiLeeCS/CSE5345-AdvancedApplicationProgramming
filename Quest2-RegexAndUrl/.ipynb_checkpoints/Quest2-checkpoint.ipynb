{
 "cells": [
  {
   "cell_type": "markdown",
   "metadata": {},
   "source": [
    "# Quest 2: Regex, Files, Urls\n",
    "\n",
    "__STUDENT_ID__  = \"35460312\"        # replace with your 8 digit student id  \n",
    "__QUEST_NAME__ = \"QUEST2\"           # QUEST NAME  \n",
    "__CODING_NAME__ = \"MonsterPeach\"           # replace with your coding name - max 15 characters  \n"
   ]
  },
  {
   "cell_type": "code",
   "execution_count": 1,
   "metadata": {},
   "outputs": [],
   "source": [
    "#Quest: Regex, Files, Urls\n",
    "\n",
    "import re, pytest, requests\n",
    "\n",
    "\n",
    "__STUDENT_ID__  = \"35460312\"        # replace with your 8 digit student id\n",
    "__QUEST_NAME__ = \"QUEST2\"           # QUEST NAME\n",
    "__CODING_NAME__ = \"MonsterPeach\"           # replace with your coding name - max 15 characters"
   ]
  },
  {
   "cell_type": "code",
   "execution_count": null,
   "metadata": {},
   "outputs": [],
   "source": [
    "def count_vowels(mystr):\n",
    "    \"\"\"return the number of vowels, upper and lowercase a,e,i,o,u in the string\n",
    "    >>> count_vowels('aaacvemmikkOOzzuU')  -> 9\n",
    "    \"\"\"\n",
    "    \n",
    "    mystr = mystr.lower()\n",
    "    vowel_list = re.findall(r'[aiueo]', mystr)    \n",
    "    return len(vowel_list)\n",
    "\n"
   ]
  },
  {
   "cell_type": "code",
   "execution_count": null,
   "metadata": {},
   "outputs": [],
   "source": []
  },
  {
   "cell_type": "code",
   "execution_count": null,
   "metadata": {},
   "outputs": [],
   "source": [
    "def is_valid_python_hex(mystr):\n",
    "    \"\"\"is string a valid hex: begins with 0x and contains only 0-9 and A-F (lower or upper)\n",
    "     >>> is_valid_python_hex('0x1A2f') -> True\n",
    "     >>> is_valid_python_hex('x1A2f')  -> False\n",
    "     >>> is_valid_python_hex('0x1A2G') -> False\n",
    "    \"\"\"\n",
    "    mystr = mystr.lower()\n",
    "    if re.match(r'^[0x]{2}[a-f0-9]{4}$', mystr) is None:\n",
    "        return False\n",
    "    return True\n",
    "\n"
   ]
  },
  {
   "cell_type": "code",
   "execution_count": null,
   "metadata": {},
   "outputs": [],
   "source": []
  },
  {
   "cell_type": "code",
   "execution_count": null,
   "metadata": {},
   "outputs": [],
   "source": [
    "def has_vowel(mystr):\n",
    "    \"\"\"   return True if a vowel upper or lowercase in string\n",
    "    >>> has_vowel(\"zcxvsd\")     -> False\n",
    "    >>> has_vowel(\"vcbxvefjk\")  -> True\n",
    "    \"\"\"\n",
    "    mystr = mystr.lower()\n",
    "    if re.search(r'[aiueo]', mystr) is None:\n",
    "        return False\n",
    "    return True\n"
   ]
  },
  {
   "cell_type": "code",
   "execution_count": null,
   "metadata": {},
   "outputs": [],
   "source": []
  },
  {
   "cell_type": "code",
   "execution_count": null,
   "metadata": {},
   "outputs": [],
   "source": [
    "\n",
    "def is_integer(mystr):\n",
    "    \"\"\" returns True if integer with optional minus sign\n",
    "    >>> is_integer(\"2345\")     -> True\n",
    "    >>> is_integer(\"-192345\")  -> True\n",
    "    >>> is_integer(\"234x5\")    -> False\n",
    "    \"\"\"\n",
    "    if re.search(r'^[\\-]?[0-9]*$', mystr) is not None:\n",
    "        return True\n",
    "    return False\n",
    "\n"
   ]
  },
  {
   "cell_type": "code",
   "execution_count": null,
   "metadata": {},
   "outputs": [],
   "source": []
  },
  {
   "cell_type": "code",
   "execution_count": null,
   "metadata": {},
   "outputs": [],
   "source": [
    "def get_extension(mystr):\n",
    "    \"\"\" returns the extension for a filename or 'NONE' if no extension\n",
    "    >>> get_extension('foo.zip')     -> 'zip'\n",
    "    >>> get_extension('foo.doc.txt') -> 'txt'\n",
    "    >>> get_extension('foozip')      -> 'NONE'\n",
    "    \"\"\"\n",
    "    \n",
    "    extension_type = re.search(r'[\\.]{1}.\\w*$', mystr)\n",
    "    if extension_type is not None:\n",
    "        return extension_type.group(0)[1:]\n",
    "    return 'NONE'\n",
    "\n",
    "def is_number(mystr):\n",
    "    \"\"\" floating point number with optional - sign and optional decimal point\n",
    "    >>> is_number('234')        -> True\n",
    "    >>> is_number('-234')       -> True\n",
    "    >>> is_number('234.')       -> True\n",
    "    >>> is_number('234.999')    -> True\n",
    "    >>> is_number('234.99.77')  -> False\n",
    "    >>> is_number('234a.88')    -> False\n",
    "    \"\"\"\n",
    "\n",
    "    if re.search(r'^[\\-]?[0-9]*[\\.]?[0-9]*[\\.]?$', mystr) is not None:\n",
    "        return True\n",
    "    return False\n",
    "    \n",
    "def convert_date_format(mystr):\n",
    "    \"\"\" convert date format YYYY-MO-DAY  TO MO-DAY-YYYY. If not in date format\n",
    "        return \"NONE\" . Check only 4 digits for year and 2 digits for MO and DAY\n",
    "    >>> convert_date_format('2018-03-04')  -> '03-04-2018'\n",
    "    >>> convert_date_format('2018.03-04')  -> 'NONE'\n",
    "    >>> convert_date_format('2018-03-054') -> 'NONE'\n",
    "    \"\"\"\n",
    "    return_str = 'NONE'\n",
    "    date_format = re.search(r'^\\d{4}\\-\\d{2}\\-\\d{2}$',mystr)\n",
    "    if date_format is not None:\n",
    "        return_str = date_format.group(0)[5:7] + '-' + date_format.group(0)[8:10] + '-' + date_format.group(0)[0:4]\n",
    "    return return_str\n",
    "\n",
    "\n",
    "#File functions\n",
    "def readFileCountLines(filename):\n",
    "    \"\"\"use download file from Canvas: pytestFile1.txt - return number of lines\n",
    "    >>> readFileCountLines('pytestFile1.txt')  -> 4\n",
    "    \"\"\"\n",
    "    with open(filename, 'r') as f:\n",
    "        return_count = sum(1 for newline in f)\n",
    "    f.close()\n",
    "    return return_count\n",
    "    \n",
    "def readFileCountStringOccurrences(filename, stringval):\n",
    "    \"\"\"read file: pyTestFile1.txt  - return number of times  stringval appears\n",
    "    >>> readFileCountStringOccurrences('pytestFile1.txt','rollo')  -> 3\n",
    "    \"\"\"\n",
    "    word_count = 0\n",
    "    with open(filename, 'r') as f:\n",
    "        for word in f.read().split():\n",
    "            if word.lower() == stringval:\n",
    "                word_count += 1\n",
    "        f.close()\n",
    "        return word_count\n",
    "\n",
    "def readFileSumDigitsGreaterThanNumber(filename, number):\n",
    "    \"\"\"e.g. file = \"hello22world2100and18and 1000\", number =999 -> 3100\n",
    "     >>> readFileSumDigitsGreaterThanNumber('pytestFile1.txt',15)  -> 88\n",
    "    \"\"\"\n",
    "    return_num = 0\n",
    "    with open(filename, 'r') as f:\n",
    "        text = f.read().lower()\n",
    "        for num in text.split(): \n",
    "                if num.isdigit() and int(num) > number:\n",
    "                    return_num += int(num)\n",
    "        \n",
    "        f.close()\n",
    "        return return_num\n",
    "\n",
    "def remove_all_but_alpha(mystr):\n",
    "    \"\"\" remove all characters that are not alpha a-z A-Z\n",
    "    >>> remove_all_but_alpha('hey-99-where8isthe**big_table**') -> 'heywhereisthebigtable'\n",
    "    \"\"\"\n",
    "    mystr = re.sub(r'[^a-zA-Z]*','', mystr)\n",
    "    return mystr\n",
    "\n",
    "\n",
    "#URL functions\n",
    "def readurlCountStringOccurrences(urlname, stringval):\n",
    "    \"\"\"return number of times  stringval appears in text of url - ignore case\n",
    "     >>> readurlCountStringOccurrences('http://s2.smu.edu/~coyle/testurls/foo.txt','rollo')  -> 3\n",
    "    \"\"\"\n",
    "    word_count = 0\n",
    "    uf = requests.get(urlname).text.split()\n",
    "    \n",
    "    for word in uf:\n",
    "        if word.lower() == stringval:\n",
    "            word_count += 1\n",
    "    \n",
    "    return word_count\n",
    "\n",
    "def readurlCountValidPhoneNumbers(urlname):\n",
    "    \"\"\"return count of valid phone number formats: no separator, dash separator, period separator:\n",
    "    valid: 2126663333, 212-666-3333, 212.666.3333\n",
    "    invalid: 212-444.5555, 212.333-4444, 212, 6363636363636\n",
    "    >>> readurlCountValidPhoneNumbers('http://s2.smu.edu/~coyle/testurls/foo.txt')  -> 3\n",
    "    \"\"\"\n",
    "    valid_count = 0\n",
    "    uf = requests.get(urlname).text.split()\n",
    "    for word in uf:\n",
    "        if re.search(r'\\d{3}(\\-|\\.)?\\d{3}\\1?\\d{4}\\1?', word) is not None:\n",
    "            valid_count += 1\n",
    "    return valid_count"
   ]
  },
  {
   "cell_type": "code",
   "execution_count": null,
   "metadata": {},
   "outputs": [],
   "source": []
  },
  {
   "cell_type": "code",
   "execution_count": null,
   "metadata": {},
   "outputs": [],
   "source": []
  },
  {
   "cell_type": "code",
   "execution_count": null,
   "metadata": {},
   "outputs": [],
   "source": []
  },
  {
   "cell_type": "code",
   "execution_count": null,
   "metadata": {},
   "outputs": [],
   "source": []
  },
  {
   "cell_type": "code",
   "execution_count": null,
   "metadata": {},
   "outputs": [],
   "source": []
  },
  {
   "cell_type": "code",
   "execution_count": null,
   "metadata": {},
   "outputs": [],
   "source": []
  },
  {
   "cell_type": "code",
   "execution_count": null,
   "metadata": {},
   "outputs": [],
   "source": []
  }
 ],
 "metadata": {
  "kernelspec": {
   "display_name": "Python 3",
   "language": "python",
   "name": "python3"
  },
  "language_info": {
   "codemirror_mode": {
    "name": "ipython",
    "version": 3
   },
   "file_extension": ".py",
   "mimetype": "text/x-python",
   "name": "python",
   "nbconvert_exporter": "python",
   "pygments_lexer": "ipython3",
   "version": "3.6.4"
  }
 },
 "nbformat": 4,
 "nbformat_minor": 2
}
