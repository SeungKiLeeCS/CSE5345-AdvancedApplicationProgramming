{
 "cells": [
  {
   "cell_type": "markdown",
   "metadata": {},
   "source": [
    "# Q1 Python Functions (2 pts)\n",
    "- rewrite the function foo so that it returns a tuple of the parameter, its square and its cube\n",
    "- example:  print (foo(2)) => (2,4,8)\n"
   ]
  },
  {
   "cell_type": "code",
   "execution_count": 2,
   "metadata": {},
   "outputs": [
    {
     "name": "stdout",
     "output_type": "stream",
     "text": [
      "(2, 4, 8)\n"
     ]
    }
   ],
   "source": [
    "# rewrite foo and display tuple  \n",
    "def foo(a):\n",
    "    return a, a**2, a**3\n",
    "\n",
    "footuple = foo(2)\n",
    "\n",
    "print(footuple)"
   ]
  },
  {
   "cell_type": "markdown",
   "metadata": {},
   "source": [
    "# Q2 : Apply functions to a string (3 pts)\n",
    "- modify the function rep1 that replaces any substring of the form 'aaa' by the string 'zzz'\n",
    "- modify the function rep2 that replaces the second character of every string with 'X'\n",
    "- create a  list of function objects fo1 =  [rep1, rep2]\n",
    "- create a list of strings  strList = ['welcome to aaa  land', 'time to go to aaa']\n",
    "- modify the function: modify(funclist, mystrlist) - that returns a list of strings after modifications\n",
    "- expected output: ['wXlcome to zzz  land', 'tXme to go to zzz']\n"
   ]
  },
  {
   "cell_type": "code",
   "execution_count": 36,
   "metadata": {},
   "outputs": [
    {
     "name": "stdout",
     "output_type": "stream",
     "text": [
      "['wXlcome to zzz land', 'tXme to go to zzz']\n"
     ]
    }
   ],
   "source": [
    "import re\n",
    "# code for Q2\n",
    "strList = ['welcome to aaa land', 'time to go to aaa']\n",
    "\n",
    "def rep1(string):\n",
    "    return re.sub('a{3}', 'zzz', string)\n",
    "\n",
    "def rep2(string):\n",
    "    strlist = list(string)\n",
    "    strlist[1] = 'X'\n",
    "    return ''.join(strlist)\n",
    "\n",
    "fo1 = [rep1, rep2]\n",
    "\n",
    "def modify(functions, strings):\n",
    "    result = []\n",
    "    for val in strings:\n",
    "        for function in functions:\n",
    "            val = function(val)\n",
    "        result.append(val)\n",
    "    return result\n",
    "\n",
    "print(modify(fo1, strList))"
   ]
  },
  {
   "cell_type": "markdown",
   "metadata": {},
   "source": [
    "# Q3 : Usage of *args (3 pts)\n",
    "\n",
    "- Modify the function fooargs that takes *args paramters  and returns a tuple of all the parameters in ascending sorted order\n",
    "- Example:   fooargs('a','x','b')\n",
    "- returns a TUPLE ('a','b','x')\n"
   ]
  },
  {
   "cell_type": "code",
   "execution_count": 41,
   "metadata": {},
   "outputs": [
    {
     "name": "stdout",
     "output_type": "stream",
     "text": [
      "('a', 'x', 'b')\n"
     ]
    }
   ],
   "source": [
    "def fooargs(*argv):\n",
    "    ret = []\n",
    "    for arg in argv:\n",
    "        ret.append(arg)\n",
    "    return tuple(ret)\n",
    "print ( fooargs('a','x', 'b'))"
   ]
  },
  {
   "cell_type": "markdown",
   "metadata": {},
   "source": [
    "# Q4 List comprehension (3 pts)\n",
    "- use the range function to create a list of integers from 0 .. 9\n",
    "- write a list comprehension that returns a list with 'Even' or 'Odd' depending on the value\n",
    "- expect: ['Even', 'Odd', 'Even', 'Odd', 'Even', 'Odd', 'Even', 'Odd', 'Even', 'Odd']\n"
   ]
  },
  {
   "cell_type": "code",
   "execution_count": 46,
   "metadata": {},
   "outputs": [
    {
     "name": "stdout",
     "output_type": "stream",
     "text": [
      "result =  ['Even', 'Odd', 'Even', 'Odd', 'Even', 'Odd', 'Even', 'Odd', 'Even', 'Odd']\n"
     ]
    }
   ],
   "source": [
    "vals = [x for x in range(10)]\n",
    "resultList = ['Even' if x%2 == 0 else 'Odd' for x in vals]\n",
    "print('result = ', resultList)"
   ]
  },
  {
   "cell_type": "markdown",
   "metadata": {},
   "source": [
    "# Q5 lambda - anonymous functions (3 pts)\n",
    "- rewrite the function foo1 as a lambda"
   ]
  },
  {
   "cell_type": "code",
   "execution_count": 51,
   "metadata": {},
   "outputs": [
    {
     "name": "stdout",
     "output_type": "stream",
     "text": [
      "3.5\n",
      "3.5\n"
     ]
    }
   ],
   "source": [
    "#write equivalent lambda function - call it foolambda\n",
    "def foo1(x, y, z): \n",
    "    return x + y /z\n",
    "  \n",
    "# Call the function\n",
    "z = foo1(2, 3, 2) \n",
    "\n",
    "print (z)  # prints 3.5\n",
    "\n",
    "# convert the above function into a lambda function\n",
    "# here lambda returns a function object which we assign to a variable\n",
    "foolambda = lambda x,y,z : x + y /z\n",
    "  \n",
    "print ( foolambda(2, 3, 2)  )  # expect 3.5 - NOT the TypeError shown below"
   ]
  },
  {
   "cell_type": "markdown",
   "metadata": {},
   "source": [
    "# Q6 filter function with lambda (3 pts)\n",
    "- given mylist = [10, 20, 30, 40, 50, 60, 70]\n",
    "- write code for mylambda and use it in a filter function such that only values between 40 and 60 (inclusive) are returned and displayed as a list\n",
    "- expected printed output: [40,50,60]"
   ]
  },
  {
   "cell_type": "code",
   "execution_count": 56,
   "metadata": {},
   "outputs": [
    {
     "name": "stdout",
     "output_type": "stream",
     "text": [
      "[40, 50, 60]\n"
     ]
    }
   ],
   "source": [
    "# filter with lambda\n",
    "mylist = [10, 20, 30, 40, 50, 60, 70]\n",
    "mylambda = filter(lambda x:40 <= x <= 60, mylist)\n",
    "print(list(mylambda))"
   ]
  },
  {
   "cell_type": "markdown",
   "metadata": {},
   "source": [
    "# Q7 Create Your Own Iterator in Python (4 pts)\n",
    "- Refactor the class MyIter with a constructor that takes three parameters: start, end  and interval.\n",
    "- The class be iterable and capable of returning an iterator. The iterator should return numbers starting at 'start', ending at 'end' and with an interval of 'interval'\n",
    "- For example when passing in the parameters (10,10,10) the iterator should return 10,20,30,...,100\n"
   ]
  },
  {
   "cell_type": "code",
   "execution_count": 70,
   "metadata": {},
   "outputs": [
    {
     "name": "stdout",
     "output_type": "stream",
     "text": [
      "10\n",
      "20\n",
      "30\n"
     ]
    }
   ],
   "source": [
    "class MyIter:\n",
    "    def __init__(self, start=100, end=200, interval=10 ):\n",
    "        self.start = start\n",
    "        self.end = end\n",
    "        self.interval = interval\n",
    "        \n",
    "    def __iter__(self):\n",
    "        self.n = self.start\n",
    "        return self\n",
    "    \n",
    "    def __next__(self):\n",
    "        # print start,\n",
    "        # then increase by interval amount\n",
    "        # until it hits end\n",
    "        if self.n <= self.end:\n",
    "            result = self.n\n",
    "            self.n += self.interval\n",
    "            return result\n",
    "        else:\n",
    "            raise StopIteration\n",
    "#create instance of MyIter\n",
    "c1 = MyIter(10,30,10)\n",
    "\n",
    "# write a loop that uses iterator from c1 to print the values 10..100\n",
    "\n",
    "for k in c1:\n",
    "    print(k)"
   ]
  },
  {
   "cell_type": "markdown",
   "metadata": {},
   "source": [
    "# Q8: Statistics : correlation  ( 3 pts)\n",
    "- start with a list: list0 = [2,4,6,8,10,12,14]\n",
    "- write 3 lists: list1, list2 and list3 such that\n",
    "- list0 and list1 have a correlation of +1\n",
    "- list0 and list2 have a correlation of -1\n",
    "- list0 and list3 have a corrleation between -0.5  and +0.5"
   ]
  },
  {
   "cell_type": "code",
   "execution_count": 134,
   "metadata": {},
   "outputs": [
    {
     "name": "stdout",
     "output_type": "stream",
     "text": [
      "correlation: 1.0\n",
      "correlation: -1.0\n",
      "correlation:  -0.27456258919345766\n"
     ]
    }
   ],
   "source": [
    "from scipy.stats import pearsonr\n",
    "import random as rnd\n",
    "# do: import the pearsonr function \n",
    "# write code that calls the pearsonr function for the above lists\n",
    "\n",
    "\n",
    "list0 = [2,4,6,8,10,12,14]\n",
    "list1 = list0\n",
    "list2 = list0[::-1]\n",
    "list3 = [0,22,1,1,2,6,1]\n",
    " \n",
    "# show pearsonr for list0 vs list1\n",
    "c1, p1 = pearsonr(list0, list1)\n",
    "print(\"correlation:\", c1)\n",
    "\n",
    "# show pearsonr for list0 vs list2\n",
    "c2, p2 = pearsonr(list0, list2)\n",
    "print(\"correlation:\", c2)\n",
    "# show pearsonr for list0 vs list3\n",
    "\n",
    "c3, p3 = pearsonr(list0, list3)\n",
    "print(\"correlation: \", c3)"
   ]
  },
  {
   "cell_type": "markdown",
   "metadata": {},
   "source": [
    "# Q9. Beautiful Soup (7 pts)\n",
    "Using Jupyter, load  the website: Nasdaq XXX  where you will find a list of dividend payouts and a variety of dates for Nvidia\n",
    "- A)\tExtract all the dividends and the corresponding XXX date listed on the website.\n",
    "- B)\tLoad the data into a DataFrame with two columns: Date and Dividend sorted by ascending date and display the DataFrame\n",
    "- C)\tPlot the dividends over time and generate the following graph.\n",
    "See the graph on the MIdterm Exam handout.\n"
   ]
  },
  {
   "cell_type": "code",
   "execution_count": 135,
   "metadata": {},
   "outputs": [],
   "source": [
    "from bs4 import BeautifulSoup as bs\n",
    "import requests as req"
   ]
  },
  {
   "cell_type": "markdown",
   "metadata": {},
   "source": [
    "### A. All Dividends and Declaration Date"
   ]
  },
  {
   "cell_type": "code",
   "execution_count": 136,
   "metadata": {},
   "outputs": [],
   "source": [
    "# Load and Parse Site\n",
    "url = \"https://www.nasdaq.com/symbol/nvda/dividend-history\"\n",
    "res = req.get(url)\n",
    "soup = bs(res.content, \"html.parser\")"
   ]
  },
  {
   "cell_type": "code",
   "execution_count": null,
   "metadata": {},
   "outputs": [],
   "source": []
  },
  {
   "cell_type": "markdown",
   "metadata": {},
   "source": [
    "# Q10 Panda Exercise 1 (4pts)\n",
    "- see the Main Midterm Handout for problem description"
   ]
  },
  {
   "cell_type": "code",
   "execution_count": 242,
   "metadata": {},
   "outputs": [
    {
     "data": {
      "text/html": [
       "<div>\n",
       "<style scoped>\n",
       "    .dataframe tbody tr th:only-of-type {\n",
       "        vertical-align: middle;\n",
       "    }\n",
       "\n",
       "    .dataframe tbody tr th {\n",
       "        vertical-align: top;\n",
       "    }\n",
       "\n",
       "    .dataframe thead th {\n",
       "        text-align: right;\n",
       "    }\n",
       "</style>\n",
       "<table border=\"1\" class=\"dataframe\">\n",
       "  <thead>\n",
       "    <tr style=\"text-align: right;\">\n",
       "      <th></th>\n",
       "      <th>one</th>\n",
       "      <th>two</th>\n",
       "      <th>three</th>\n",
       "      <th>four</th>\n",
       "    </tr>\n",
       "  </thead>\n",
       "  <tbody>\n",
       "    <tr>\n",
       "      <th>NY</th>\n",
       "      <td>1</td>\n",
       "      <td>2</td>\n",
       "      <td>3</td>\n",
       "      <td>4</td>\n",
       "    </tr>\n",
       "    <tr>\n",
       "      <th>TX</th>\n",
       "      <td>4</td>\n",
       "      <td>5</td>\n",
       "      <td>6</td>\n",
       "      <td>7</td>\n",
       "    </tr>\n",
       "    <tr>\n",
       "      <th>CA</th>\n",
       "      <td>8</td>\n",
       "      <td>9</td>\n",
       "      <td>10</td>\n",
       "      <td>11</td>\n",
       "    </tr>\n",
       "    <tr>\n",
       "      <th>OK</th>\n",
       "      <td>12</td>\n",
       "      <td>13</td>\n",
       "      <td>14</td>\n",
       "      <td>15</td>\n",
       "    </tr>\n",
       "  </tbody>\n",
       "</table>\n",
       "</div>"
      ],
      "text/plain": [
       "    one  two  three  four\n",
       "NY    1    2      3     4\n",
       "TX    4    5      6     7\n",
       "CA    8    9     10    11\n",
       "OK   12   13     14    15"
      ]
     },
     "execution_count": 242,
     "metadata": {},
     "output_type": "execute_result"
    }
   ],
   "source": [
    "# answer for Q10\n",
    "import pandas as pd\n",
    "\n",
    "df1 = pd.DataFrame([[1,2,3,4],\n",
    "                    [4,5,6,7],\n",
    "                    [8,9,10,11],\n",
    "                    [12,13,14,15]])\n",
    "df1 = df1.rename({0:\"NY\", 1:\"TX\", 2:\"CA\", 3:\"OK\"}, axis='index')\n",
    "df1 = df1.rename({0:\"one\", 1:\"two\", 2:\"three\", 3:\"four\"}, axis='columns')\n",
    "df1"
   ]
  },
  {
   "cell_type": "code",
   "execution_count": 251,
   "metadata": {},
   "outputs": [
    {
     "data": {
      "text/html": [
       "<div>\n",
       "<style scoped>\n",
       "    .dataframe tbody tr th:only-of-type {\n",
       "        vertical-align: middle;\n",
       "    }\n",
       "\n",
       "    .dataframe tbody tr th {\n",
       "        vertical-align: top;\n",
       "    }\n",
       "\n",
       "    .dataframe thead th {\n",
       "        text-align: right;\n",
       "    }\n",
       "</style>\n",
       "<table border=\"1\" class=\"dataframe\">\n",
       "  <thead>\n",
       "    <tr style=\"text-align: right;\">\n",
       "      <th></th>\n",
       "      <th>one</th>\n",
       "      <th>two</th>\n",
       "      <th>three</th>\n",
       "      <th>four</th>\n",
       "    </tr>\n",
       "  </thead>\n",
       "  <tbody>\n",
       "    <tr>\n",
       "      <th>NY</th>\n",
       "      <td>0</td>\n",
       "      <td>0</td>\n",
       "      <td>0</td>\n",
       "      <td>0</td>\n",
       "    </tr>\n",
       "    <tr>\n",
       "      <th>TX</th>\n",
       "      <td>0</td>\n",
       "      <td>0</td>\n",
       "      <td>6</td>\n",
       "      <td>7</td>\n",
       "    </tr>\n",
       "    <tr>\n",
       "      <th>CA</th>\n",
       "      <td>8</td>\n",
       "      <td>9</td>\n",
       "      <td>10</td>\n",
       "      <td>11</td>\n",
       "    </tr>\n",
       "    <tr>\n",
       "      <th>OK</th>\n",
       "      <td>12</td>\n",
       "      <td>13</td>\n",
       "      <td>14</td>\n",
       "      <td>15</td>\n",
       "    </tr>\n",
       "  </tbody>\n",
       "</table>\n",
       "</div>"
      ],
      "text/plain": [
       "    one  two  three  four\n",
       "NY    0    0      0     0\n",
       "TX    0    0      6     7\n",
       "CA    8    9     10    11\n",
       "OK   12   13     14    15"
      ]
     },
     "execution_count": 251,
     "metadata": {},
     "output_type": "execute_result"
    }
   ],
   "source": [
    "df1 = df1.where(df1 > 5, 0)\n",
    "df1"
   ]
  },
  {
   "cell_type": "markdown",
   "metadata": {},
   "source": [
    "# Q11 Panda Exercise 2 (2 pts)\n",
    "- see Main Midterm handout"
   ]
  },
  {
   "cell_type": "code",
   "execution_count": 255,
   "metadata": {},
   "outputs": [
    {
     "name": "stdout",
     "output_type": "stream",
     "text": [
      "150\n"
     ]
    }
   ],
   "source": [
    "# answer for  Q11\n",
    "print(df1.iat[2,2] * df1.iat[3,3])"
   ]
  },
  {
   "cell_type": "markdown",
   "metadata": {},
   "source": [
    "# Q12 Panda Exercise 3 ( 4 pts)\n",
    "- see Main Midterm handout"
   ]
  },
  {
   "cell_type": "code",
   "execution_count": 260,
   "metadata": {},
   "outputs": [
    {
     "data": {
      "text/html": [
       "<div>\n",
       "<style scoped>\n",
       "    .dataframe tbody tr th:only-of-type {\n",
       "        vertical-align: middle;\n",
       "    }\n",
       "\n",
       "    .dataframe tbody tr th {\n",
       "        vertical-align: top;\n",
       "    }\n",
       "\n",
       "    .dataframe thead th {\n",
       "        text-align: right;\n",
       "    }\n",
       "</style>\n",
       "<table border=\"1\" class=\"dataframe\">\n",
       "  <thead>\n",
       "    <tr style=\"text-align: right;\">\n",
       "      <th></th>\n",
       "      <th>a</th>\n",
       "      <th>b</th>\n",
       "      <th>c</th>\n",
       "      <th>d</th>\n",
       "      <th>e</th>\n",
       "    </tr>\n",
       "  </thead>\n",
       "  <tbody>\n",
       "    <tr>\n",
       "      <th>0</th>\n",
       "      <td>10</td>\n",
       "      <td>12</td>\n",
       "      <td>13</td>\n",
       "      <td>14</td>\n",
       "      <td>15</td>\n",
       "    </tr>\n",
       "    <tr>\n",
       "      <th>1</th>\n",
       "      <td>10</td>\n",
       "      <td>20</td>\n",
       "      <td>30</td>\n",
       "      <td>40</td>\n",
       "      <td>50</td>\n",
       "    </tr>\n",
       "    <tr>\n",
       "      <th>2</th>\n",
       "      <td>2</td>\n",
       "      <td>3</td>\n",
       "      <td>44</td>\n",
       "      <td>15</td>\n",
       "      <td>66</td>\n",
       "    </tr>\n",
       "  </tbody>\n",
       "</table>\n",
       "</div>"
      ],
      "text/plain": [
       "    a   b   c   d   e\n",
       "0  10  12  13  14  15\n",
       "1  10  20  30  40  50\n",
       "2   2   3  44  15  66"
      ]
     },
     "execution_count": 260,
     "metadata": {},
     "output_type": "execute_result"
    }
   ],
   "source": [
    "#answer for Q12\n",
    "\n",
    "df2 = pd.DataFrame([[10,12,13,14,15],[10,20,30,40,50],[2,3,44,15,66]])\n",
    "df2 = df2.rename({0:\"a\", 1:\"b\", 2:\"c\", 3:\"d\", 4:\"e\"}, axis='columns')\n",
    "df2"
   ]
  },
  {
   "cell_type": "code",
   "execution_count": 269,
   "metadata": {},
   "outputs": [
    {
     "data": {
      "text/plain": [
       "a    10\n",
       "b    20\n",
       "c    44\n",
       "d    40\n",
       "e    66\n",
       "dtype: int64"
      ]
     },
     "execution_count": 269,
     "metadata": {},
     "output_type": "execute_result"
    }
   ],
   "source": [
    "df2.max(axis='rows')"
   ]
  },
  {
   "cell_type": "code",
   "execution_count": 270,
   "metadata": {
    "scrolled": true
   },
   "outputs": [
    {
     "data": {
      "text/plain": [
       "0    15\n",
       "1    50\n",
       "2    66\n",
       "dtype: int64"
      ]
     },
     "execution_count": 270,
     "metadata": {},
     "output_type": "execute_result"
    }
   ],
   "source": [
    "df2.max(axis='columns')"
   ]
  },
  {
   "cell_type": "markdown",
   "metadata": {},
   "source": [
    "# Q13 Olympics 1 ( 3 pts)\n",
    "- Download the Olympics.csv\n",
    "- •\tDisplay  the  count of the number of Hungarians (HUN)  who won  medals between 2000 and 2008 in the Discipline of Swimming or Fencing"
   ]
  },
  {
   "cell_type": "code",
   "execution_count": 271,
   "metadata": {},
   "outputs": [],
   "source": [
    "# Answer for Q13\n",
    "import csv"
   ]
  },
  {
   "cell_type": "code",
   "execution_count": 273,
   "metadata": {
    "scrolled": true
   },
   "outputs": [
    {
     "data": {
      "text/html": [
       "<div>\n",
       "<style scoped>\n",
       "    .dataframe tbody tr th:only-of-type {\n",
       "        vertical-align: middle;\n",
       "    }\n",
       "\n",
       "    .dataframe tbody tr th {\n",
       "        vertical-align: top;\n",
       "    }\n",
       "\n",
       "    .dataframe thead th {\n",
       "        text-align: right;\n",
       "    }\n",
       "</style>\n",
       "<table border=\"1\" class=\"dataframe\">\n",
       "  <thead>\n",
       "    <tr style=\"text-align: right;\">\n",
       "      <th>4</th>\n",
       "      <th>City</th>\n",
       "      <th>Edition</th>\n",
       "      <th>Sport</th>\n",
       "      <th>Discipline</th>\n",
       "      <th>Athlete</th>\n",
       "      <th>NOC</th>\n",
       "      <th>Gender</th>\n",
       "      <th>Event</th>\n",
       "      <th>Event_gender</th>\n",
       "      <th>Medal</th>\n",
       "    </tr>\n",
       "  </thead>\n",
       "  <tbody>\n",
       "    <tr>\n",
       "      <th>5</th>\n",
       "      <td>Athens</td>\n",
       "      <td>1896</td>\n",
       "      <td>Aquatics</td>\n",
       "      <td>Swimming</td>\n",
       "      <td>HAJOS, Alfred</td>\n",
       "      <td>HUN</td>\n",
       "      <td>Men</td>\n",
       "      <td>100m freestyle</td>\n",
       "      <td>M</td>\n",
       "      <td>Gold</td>\n",
       "    </tr>\n",
       "    <tr>\n",
       "      <th>6</th>\n",
       "      <td>Athens</td>\n",
       "      <td>1896</td>\n",
       "      <td>Aquatics</td>\n",
       "      <td>Swimming</td>\n",
       "      <td>HERSCHMANN, Otto</td>\n",
       "      <td>AUT</td>\n",
       "      <td>Men</td>\n",
       "      <td>100m freestyle</td>\n",
       "      <td>M</td>\n",
       "      <td>Silver</td>\n",
       "    </tr>\n",
       "    <tr>\n",
       "      <th>7</th>\n",
       "      <td>Athens</td>\n",
       "      <td>1896</td>\n",
       "      <td>Aquatics</td>\n",
       "      <td>Swimming</td>\n",
       "      <td>DRIVAS, Dimitrios</td>\n",
       "      <td>GRE</td>\n",
       "      <td>Men</td>\n",
       "      <td>100m freestyle for sailors</td>\n",
       "      <td>M</td>\n",
       "      <td>Bronze</td>\n",
       "    </tr>\n",
       "    <tr>\n",
       "      <th>8</th>\n",
       "      <td>Athens</td>\n",
       "      <td>1896</td>\n",
       "      <td>Aquatics</td>\n",
       "      <td>Swimming</td>\n",
       "      <td>MALOKINIS, Ioannis</td>\n",
       "      <td>GRE</td>\n",
       "      <td>Men</td>\n",
       "      <td>100m freestyle for sailors</td>\n",
       "      <td>M</td>\n",
       "      <td>Gold</td>\n",
       "    </tr>\n",
       "    <tr>\n",
       "      <th>9</th>\n",
       "      <td>Athens</td>\n",
       "      <td>1896</td>\n",
       "      <td>Aquatics</td>\n",
       "      <td>Swimming</td>\n",
       "      <td>CHASAPIS, Spiridon</td>\n",
       "      <td>GRE</td>\n",
       "      <td>Men</td>\n",
       "      <td>100m freestyle for sailors</td>\n",
       "      <td>M</td>\n",
       "      <td>Silver</td>\n",
       "    </tr>\n",
       "  </tbody>\n",
       "</table>\n",
       "</div>"
      ],
      "text/plain": [
       "4    City Edition     Sport Discipline             Athlete  NOC Gender  \\\n",
       "5  Athens    1896  Aquatics   Swimming       HAJOS, Alfred  HUN    Men   \n",
       "6  Athens    1896  Aquatics   Swimming    HERSCHMANN, Otto  AUT    Men   \n",
       "7  Athens    1896  Aquatics   Swimming   DRIVAS, Dimitrios  GRE    Men   \n",
       "8  Athens    1896  Aquatics   Swimming  MALOKINIS, Ioannis  GRE    Men   \n",
       "9  Athens    1896  Aquatics   Swimming  CHASAPIS, Spiridon  GRE    Men   \n",
       "\n",
       "4                       Event Event_gender   Medal  \n",
       "5              100m freestyle            M    Gold  \n",
       "6              100m freestyle            M  Silver  \n",
       "7  100m freestyle for sailors            M  Bronze  \n",
       "8  100m freestyle for sailors            M    Gold  \n",
       "9  100m freestyle for sailors            M  Silver  "
      ]
     },
     "execution_count": 273,
     "metadata": {},
     "output_type": "execute_result"
    }
   ],
   "source": [
    "ol = pd.read_csv(\"./olympics.csv\", header=None)\n",
    "ol.columns = ol.iloc[4]\n",
    "ol=ol.tail(-5)\n",
    "ol.head()"
   ]
  },
  {
   "cell_type": "code",
   "execution_count": 316,
   "metadata": {},
   "outputs": [
    {
     "name": "stdout",
     "output_type": "stream",
     "text": [
      "Total Medals : 14\n"
     ]
    }
   ],
   "source": [
    "hungarian = ol[(ol['NOC'] == \"HUN\") & \n",
    "   ((ol['Discipline'] == 'Swimming') | \n",
    "    (ol['Discipline'] == 'Fencing')) &\n",
    "   ((ol['Edition'] == '2000') |\n",
    "   (ol['Edition'] == '2004') |\n",
    "   (ol['Edition'] == '2008'))\n",
    "  ]\n",
    "\n",
    "# print(hungarian.count())\n",
    "\n",
    "print(\"Total Medals :\", hungarian.count()[9])"
   ]
  },
  {
   "cell_type": "markdown",
   "metadata": {},
   "source": [
    "# Q14 Olympics 2 ( 3pts)\n",
    "- •\tBased on Olympics.csv, in which events did Jesse Owens win medals - report as a DataFrame with column headings of: Year, City and Event"
   ]
  },
  {
   "cell_type": "code",
   "execution_count": 327,
   "metadata": {},
   "outputs": [
    {
     "data": {
      "text/html": [
       "<div>\n",
       "<style scoped>\n",
       "    .dataframe tbody tr th:only-of-type {\n",
       "        vertical-align: middle;\n",
       "    }\n",
       "\n",
       "    .dataframe tbody tr th {\n",
       "        vertical-align: top;\n",
       "    }\n",
       "\n",
       "    .dataframe thead th {\n",
       "        text-align: right;\n",
       "    }\n",
       "</style>\n",
       "<table border=\"1\" class=\"dataframe\">\n",
       "  <thead>\n",
       "    <tr style=\"text-align: right;\">\n",
       "      <th>4</th>\n",
       "      <th>City</th>\n",
       "      <th>Year</th>\n",
       "      <th>Event</th>\n",
       "    </tr>\n",
       "  </thead>\n",
       "  <tbody>\n",
       "    <tr>\n",
       "      <th>6432</th>\n",
       "      <td>Berlin</td>\n",
       "      <td>1936</td>\n",
       "      <td>100m</td>\n",
       "    </tr>\n",
       "    <tr>\n",
       "      <th>6444</th>\n",
       "      <td>Berlin</td>\n",
       "      <td>1936</td>\n",
       "      <td>200m</td>\n",
       "    </tr>\n",
       "    <tr>\n",
       "      <th>6461</th>\n",
       "      <td>Berlin</td>\n",
       "      <td>1936</td>\n",
       "      <td>4x100m relay</td>\n",
       "    </tr>\n",
       "    <tr>\n",
       "      <th>6528</th>\n",
       "      <td>Berlin</td>\n",
       "      <td>1936</td>\n",
       "      <td>long jump</td>\n",
       "    </tr>\n",
       "  </tbody>\n",
       "</table>\n",
       "</div>"
      ],
      "text/plain": [
       "4       City  Year         Event\n",
       "6432  Berlin  1936          100m\n",
       "6444  Berlin  1936          200m\n",
       "6461  Berlin  1936  4x100m relay\n",
       "6528  Berlin  1936     long jump"
      ]
     },
     "execution_count": 327,
     "metadata": {},
     "output_type": "execute_result"
    }
   ],
   "source": [
    "# Answer for Q14\n",
    "owens = ol[\n",
    "    ol['Athlete'] == \"OWENS, Jesse\"\n",
    "]\n",
    "\n",
    "odf = owens.drop(['Sport', 'Discipline', 'NOC', 'Gender', 'Athlete', 'Event_gender', 'Medal'], axis = 1)\n",
    "odf = odf.rename({\"Edition\":\"Year\"}, axis=\"columns\")\n",
    "odf"
   ]
  }
 ],
 "metadata": {
  "kernelspec": {
   "display_name": "Python 3",
   "language": "python",
   "name": "python3"
  },
  "language_info": {
   "codemirror_mode": {
    "name": "ipython",
    "version": 3
   },
   "file_extension": ".py",
   "mimetype": "text/x-python",
   "name": "python",
   "nbconvert_exporter": "python",
   "pygments_lexer": "ipython3",
   "version": "3.6.4"
  }
 },
 "nbformat": 4,
 "nbformat_minor": 2
}
