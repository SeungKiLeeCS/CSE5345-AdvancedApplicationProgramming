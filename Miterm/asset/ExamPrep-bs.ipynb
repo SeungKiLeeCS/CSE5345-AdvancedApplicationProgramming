{
 "cells": [
  {
   "cell_type": "markdown",
   "metadata": {},
   "source": [
    "# Beautiful Soup Exam Prep"
   ]
  },
  {
   "cell_type": "code",
   "execution_count": 1,
   "metadata": {},
   "outputs": [],
   "source": [
    "from bs4 import BeautifulSoup as bs\n",
    "import requests as req"
   ]
  },
  {
   "cell_type": "markdown",
   "metadata": {},
   "source": [
    "## Scrape and Parse Website"
   ]
  },
  {
   "cell_type": "code",
   "execution_count": 2,
   "metadata": {},
   "outputs": [],
   "source": [
    "res = req.get(\"https://www.nasdaq.com/symbol/nvda/dividend-history\")\n",
    "soup = bs(res.content, \"html.parser\")"
   ]
  },
  {
   "cell_type": "markdown",
   "metadata": {},
   "source": [
    "## Get Last Sale Price"
   ]
  },
  {
   "cell_type": "code",
   "execution_count": 3,
   "metadata": {},
   "outputs": [
    {
     "name": "stdout",
     "output_type": "stream",
     "text": [
      "$232.2137\n"
     ]
    }
   ],
   "source": [
    "last_sale = soup.find(\"div\",{\"id\": \"qwidget_lastsale\"})\n",
    "print(last_sale.contents[0])"
   ]
  },
  {
   "cell_type": "markdown",
   "metadata": {},
   "source": [
    "## Get Most Recent Dividend"
   ]
  },
  {
   "cell_type": "code",
   "execution_count": 4,
   "metadata": {},
   "outputs": [
    {
     "name": "stdout",
     "output_type": "stream",
     "text": [
      "0.15\n"
     ]
    }
   ],
   "source": [
    "most_recent_dividend = soup.find(\"span\", {\"id\": \"quotes_content_left_dividendhistoryGrid_CashAmount_0\"})\n",
    "print(most_recent_dividend.contents[0])"
   ]
  },
  {
   "cell_type": "markdown",
   "metadata": {},
   "source": [
    "## Get Latest News Headlines"
   ]
  },
  {
   "cell_type": "code",
   "execution_count": 5,
   "metadata": {},
   "outputs": [
    {
     "name": "stdout",
     "output_type": "stream",
     "text": [
      "Saatchi Art's The Other Art Fair Los Angeles Announces Its Fall 2018 Artist Lineup and Programming\n",
      "Dow, S&P; fall with energy, financials; tech boosts Nasdaq\n",
      "US STOCKS-Dow, S&P; fall with energy, financials; tech boosts Nasdaq\n",
      "Community Bank Opens Northern Business Center\n"
     ]
    }
   ],
   "source": [
    "news_headlines = soup.find(\"div\", {\"id\": \"right-column-div\"})\n",
    "ul = news_headlines.find(\"ul\")\n",
    "for i in ul.findAll(\"a\"):\n",
    "    print(i.text.strip())"
   ]
  },
  {
   "cell_type": "markdown",
   "metadata": {},
   "source": [
    "# DJIA"
   ]
  },
  {
   "cell_type": "code",
   "execution_count": 9,
   "metadata": {},
   "outputs": [
    {
     "data": {
      "text/plain": [
       "<b>25361.01</b>"
      ]
     },
     "execution_count": 9,
     "metadata": {},
     "output_type": "execute_result"
    }
   ],
   "source": [
    "djia_table = soup.find(\"div\", {\"id\": \"RailIndexTable\"})\n",
    "djia_table.findAll(\"b\")[4]"
   ]
  },
  {
   "cell_type": "markdown",
   "metadata": {},
   "source": [
    "## Rider Alerts"
   ]
  },
  {
   "cell_type": "code",
   "execution_count": 13,
   "metadata": {},
   "outputs": [],
   "source": [
    "res = req.get(\"https://dart.org/riding/dartrailredline.asp#rail\")\n",
    "soup2 = bs(res.content, \"html.parser\")"
   ]
  },
  {
   "cell_type": "code",
   "execution_count": 30,
   "metadata": {},
   "outputs": [
    {
     "name": "stdout",
     "output_type": "stream",
     "text": [
      "Dallas Streetcar Rider Alert Update 10/22 9:55a\n",
      "Construction Projects to Disrupt Orange Line Over Two-Week Period, Effective October 27-28, November 3-4, 2018\n",
      "Current Route Detours (Effective for routes 12, 26, 31, 35, 42, 81/82, 161, 206, 211, 278, 347, 350, 376, 402, 403, 409, 444, 522, 542, 549, 571, 595, 597)\n",
      "TRE Rider Alert effective June 18, 2018\n",
      "Always Be Alert: A message from DART Police\n"
     ]
    }
   ],
   "source": [
    "alert_bar = soup2.find(\"ul\", {\"class\": \"rideralerts\"})\n",
    "for i in alert_bar.findAll(\"li\"):\n",
    "    print(i.text)"
   ]
  },
  {
   "cell_type": "markdown",
   "metadata": {},
   "source": [
    "## Get all Stations"
   ]
  },
  {
   "cell_type": "code",
   "execution_count": 46,
   "metadata": {},
   "outputs": [
    {
     "name": "stdout",
     "output_type": "stream",
     "text": [
      "Parker Road\n",
      "Downtown Plano\n",
      "CityLine/Bush\n",
      "Galatyn Park\n",
      "Arapaho Center\n",
      "Spring Valley\n",
      "LBJ/Central\n",
      "Forest Lane\n",
      "Walnut Hill\n",
      "Park Lane\n",
      "Lovers Lane\n",
      "Mockingbird\n",
      "Cityplace/Uptown\n",
      "Pearl/Arts District\n",
      "St. Paul\n",
      "Akard\n",
      "West End\n",
      "Union Station\n",
      "Convention Center\n",
      "Cedars\n",
      "8th & Corinth\n",
      "Dallas Zoo\n",
      "Tyler/Vernon\n",
      "Hampton\n",
      "Westmoreland\n"
     ]
    }
   ],
   "source": [
    "navlist = soup2.findAll(\"ul\", {\"class\":\"nav\"})\n",
    "stations = navlist[4].findAll('a')\n",
    "for i in stations:\n",
    "    print(i.text)"
   ]
  },
  {
   "cell_type": "code",
   "execution_count": null,
   "metadata": {},
   "outputs": [],
   "source": []
  }
 ],
 "metadata": {
  "kernelspec": {
   "display_name": "Python 3",
   "language": "python",
   "name": "python3"
  },
  "language_info": {
   "codemirror_mode": {
    "name": "ipython",
    "version": 3
   },
   "file_extension": ".py",
   "mimetype": "text/x-python",
   "name": "python",
   "nbconvert_exporter": "python",
   "pygments_lexer": "ipython3",
   "version": "3.6.4"
  }
 },
 "nbformat": 4,
 "nbformat_minor": 2
}
