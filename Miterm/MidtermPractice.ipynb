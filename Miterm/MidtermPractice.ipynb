{
 "cells": [
  {
   "cell_type": "markdown",
   "metadata": {},
   "source": [
    "# AAP Midterm Practice\n",
    "\n",
    "This is walk through of materials on Midterm Exam Notes."
   ]
  },
  {
   "cell_type": "code",
   "execution_count": 3,
   "metadata": {},
   "outputs": [],
   "source": [
    "# Preemptive Imports\n",
    "import numpy as np\n",
    "import re\n",
    "from functools import reduce\n",
    "import operator\n",
    "import itertools"
   ]
  },
  {
   "cell_type": "markdown",
   "metadata": {},
   "source": [
    "# Counter"
   ]
  },
  {
   "cell_type": "code",
   "execution_count": 4,
   "metadata": {},
   "outputs": [],
   "source": [
    "from collections import Counter"
   ]
  },
  {
   "cell_type": "markdown",
   "metadata": {},
   "source": [
    "# Plotting (R)"
   ]
  },
  {
   "cell_type": "code",
   "execution_count": 5,
   "metadata": {},
   "outputs": [],
   "source": [
    "import matplotlib.pyplot as plt"
   ]
  },
  {
   "cell_type": "code",
   "execution_count": 6,
   "metadata": {},
   "outputs": [
    {
     "data": {
      "text/plain": [
       "'\\nx = list\\nyval = list\\nx_pos [i for i, _ in enumerate(x)] -> counts and returns x pos\\n\\nplt.figure(figsize=(10, 6))\\nplt.bar(x_pos, yval, color=\\'whatevers\\') -> displays y value in x interval\\n\\nplt xticks(x_pos, x) -> name of x_pos values\\n\\nplt.xlabel(\"wev\")\\nplt.ylabel(\"wev2\")\\n\\nplt.show()\\n\\n'"
      ]
     },
     "execution_count": 6,
     "metadata": {},
     "output_type": "execute_result"
    }
   ],
   "source": [
    "%matplotlib inline\n",
    "'''\n",
    "x = list\n",
    "yval = list\n",
    "x_pos [i for i, _ in enumerate(x)] -> counts and returns x pos\n",
    "\n",
    "plt.figure(figsize=(10, 6))\n",
    "plt.bar(x_pos, yval, color='whatevers') -> displays y value in x interval\n",
    "\n",
    "plt xticks(x_pos, x) -> name of x_pos values\n",
    "\n",
    "plt.xlabel(\"wev\")\n",
    "plt.ylabel(\"wev2\")\n",
    "\n",
    "plt.show()\n",
    "\n",
    "'''\n"
   ]
  },
  {
   "cell_type": "markdown",
   "metadata": {},
   "source": [
    "# Beautiful Soup (R)"
   ]
  },
  {
   "cell_type": "code",
   "execution_count": 7,
   "metadata": {},
   "outputs": [],
   "source": [
    "from bs4 import BeautifulSoup as bs\n",
    "import requests as req"
   ]
  },
  {
   "cell_type": "markdown",
   "metadata": {},
   "source": [
    "### Scrape and Parse Website"
   ]
  },
  {
   "cell_type": "code",
   "execution_count": 8,
   "metadata": {},
   "outputs": [],
   "source": [
    "url = \"https://www.nasdaq.com/symbol/nvda/dividend-history\"\n",
    "res = req.get(url)\n",
    "soup = bs(res.content, \"html.parser\")"
   ]
  },
  {
   "cell_type": "markdown",
   "metadata": {},
   "source": [
    "### Get Last Sale Price"
   ]
  },
  {
   "cell_type": "code",
   "execution_count": 9,
   "metadata": {},
   "outputs": [
    {
     "name": "stdout",
     "output_type": "stream",
     "text": [
      "$187.15\n"
     ]
    }
   ],
   "source": [
    "last_sale = soup.find(\"div\",{\"id\": \"qwidget_lastsale\"})\n",
    "print(last_sale.contents[0])"
   ]
  },
  {
   "cell_type": "markdown",
   "metadata": {},
   "source": [
    "### Get Most Recent Dividend"
   ]
  },
  {
   "cell_type": "code",
   "execution_count": 10,
   "metadata": {},
   "outputs": [
    {
     "name": "stdout",
     "output_type": "stream",
     "text": [
      "0.15\n"
     ]
    }
   ],
   "source": [
    "most_recent_dividend = soup.find(\"span\", {\"id\": \"quotes_content_left_dividendhistoryGrid_CashAmount_0\"})\n",
    "print(most_recent_dividend.contents[0])"
   ]
  },
  {
   "cell_type": "markdown",
   "metadata": {},
   "source": [
    "### Get Latest News Headlines"
   ]
  },
  {
   "cell_type": "code",
   "execution_count": 11,
   "metadata": {},
   "outputs": [
    {
     "name": "stdout",
     "output_type": "stream",
     "text": [
      "Palmetto Heritage Shareholders Approve Proposed Merger With First Citizens Bank\n",
      "Advisory: Fortis Inc. to Hold Teleconference on November 2 to Discuss Third Quarter 2018 Results\n",
      "EMC Insurance Companies® Enters into an Agreement with  Safeco Insurance® for Transition of Persona\n",
      "U.S. restricts exports to Chinese semiconductor firm Fujian Jinhua\n"
     ]
    }
   ],
   "source": [
    "news_headlines = soup.find(\"div\", {\"id\": \"right-column-div\"})\n",
    "ul = news_headlines.find(\"ul\")\n",
    "for i in ul.findAll(\"a\"):\n",
    "    print(i.text.strip())"
   ]
  },
  {
   "cell_type": "markdown",
   "metadata": {},
   "source": [
    "### DJIA"
   ]
  },
  {
   "cell_type": "code",
   "execution_count": 12,
   "metadata": {},
   "outputs": [
    {
     "data": {
      "text/plain": [
       "'24452.25'"
      ]
     },
     "execution_count": 12,
     "metadata": {},
     "output_type": "execute_result"
    }
   ],
   "source": [
    "djia_table = soup.find(\"div\", {\"id\": \"RailIndexTable\"})\n",
    "# 4th from the tags\n",
    "djia_table.findAll(\"b\")[4].text"
   ]
  },
  {
   "cell_type": "markdown",
   "metadata": {},
   "source": [
    "### Rider Alerts"
   ]
  },
  {
   "cell_type": "code",
   "execution_count": 13,
   "metadata": {},
   "outputs": [],
   "source": [
    "url2 = \"https://dart.org/riding/dartrailredline.asp#rail\"\n",
    "res2 = req.get(url2)\n",
    "soup2 = bs(res2.content, \"html.parser\")"
   ]
  },
  {
   "cell_type": "code",
   "execution_count": 14,
   "metadata": {},
   "outputs": [
    {
     "name": "stdout",
     "output_type": "stream",
     "text": [
      "Construction Projects to Disrupt Orange Line Over Two-Week Period, Effective October 27-28, November 3-4, 2018\n",
      "Current Route Detours (Effective for routes 11, 12, 26, 31, 35, 42, 81/82, 161, 206, 211, 278, 347, 350, 376, 402, 403, 409, 444, 522, 542, 549, 571, 595, 597)\n",
      "TRE Rider Alert effective June 18, 2018\n",
      "Always Be Alert: A message from DART Police\n"
     ]
    }
   ],
   "source": [
    "alert_bar = soup2.find(\"ul\", {\"class\": \"rideralerts\"})\n",
    "for i in alert_bar.findAll(\"li\"):\n",
    "    print(i.text)"
   ]
  },
  {
   "cell_type": "markdown",
   "metadata": {},
   "source": [
    "### Get all Stations"
   ]
  },
  {
   "cell_type": "code",
   "execution_count": 15,
   "metadata": {},
   "outputs": [
    {
     "name": "stdout",
     "output_type": "stream",
     "text": [
      "Parker Road\n",
      "Downtown Plano\n",
      "CityLine/Bush\n",
      "Galatyn Park\n",
      "Arapaho Center\n",
      "Spring Valley\n",
      "LBJ/Central\n",
      "Forest Lane\n",
      "Walnut Hill\n",
      "Park Lane\n",
      "Lovers Lane\n",
      "Mockingbird\n",
      "Cityplace/Uptown\n",
      "Pearl/Arts District\n",
      "St. Paul\n",
      "Akard\n",
      "West End\n",
      "Union Station\n",
      "Convention Center\n",
      "Cedars\n",
      "8th & Corinth\n",
      "Dallas Zoo\n",
      "Tyler/Vernon\n",
      "Hampton\n",
      "Westmoreland\n"
     ]
    }
   ],
   "source": [
    "navlist = soup2.findAll(\"ul\", {\"class\":\"nav\"})\n",
    "stations = navlist[4].findAll('a')\n",
    "for i in stations:\n",
    "    print(i.text)"
   ]
  },
  {
   "cell_type": "markdown",
   "metadata": {},
   "source": [
    "# Pandas"
   ]
  },
  {
   "cell_type": "code",
   "execution_count": 16,
   "metadata": {},
   "outputs": [],
   "source": [
    "import pandas as pd\n",
    "import csv"
   ]
  },
  {
   "cell_type": "markdown",
   "metadata": {},
   "source": [
    "### Read CSV file"
   ]
  },
  {
   "cell_type": "code",
   "execution_count": 17,
   "metadata": {},
   "outputs": [],
   "source": [
    "# ol = pd.read_csv(\"./asset/olympics.csv\")\n",
    "wc = pd.read_csv(\"./asset/WorldCupMatches.csv\")"
   ]
  },
  {
   "cell_type": "markdown",
   "metadata": {},
   "source": [
    "### Olympic Data"
   ]
  },
  {
   "cell_type": "markdown",
   "metadata": {},
   "source": [
    "### Clean Data Label"
   ]
  },
  {
   "cell_type": "code",
   "execution_count": 18,
   "metadata": {
    "scrolled": true
   },
   "outputs": [
    {
     "data": {
      "text/html": [
       "<div>\n",
       "<style scoped>\n",
       "    .dataframe tbody tr th:only-of-type {\n",
       "        vertical-align: middle;\n",
       "    }\n",
       "\n",
       "    .dataframe tbody tr th {\n",
       "        vertical-align: top;\n",
       "    }\n",
       "\n",
       "    .dataframe thead th {\n",
       "        text-align: right;\n",
       "    }\n",
       "</style>\n",
       "<table border=\"1\" class=\"dataframe\">\n",
       "  <thead>\n",
       "    <tr style=\"text-align: right;\">\n",
       "      <th>4</th>\n",
       "      <th>City</th>\n",
       "      <th>Edition</th>\n",
       "      <th>Sport</th>\n",
       "      <th>Discipline</th>\n",
       "      <th>Athlete</th>\n",
       "      <th>NOC</th>\n",
       "      <th>Gender</th>\n",
       "      <th>Event</th>\n",
       "      <th>Event_gender</th>\n",
       "      <th>Medal</th>\n",
       "    </tr>\n",
       "  </thead>\n",
       "  <tbody>\n",
       "    <tr>\n",
       "      <th>5</th>\n",
       "      <td>Athens</td>\n",
       "      <td>1896</td>\n",
       "      <td>Aquatics</td>\n",
       "      <td>Swimming</td>\n",
       "      <td>HAJOS, Alfred</td>\n",
       "      <td>HUN</td>\n",
       "      <td>Men</td>\n",
       "      <td>100m freestyle</td>\n",
       "      <td>M</td>\n",
       "      <td>Gold</td>\n",
       "    </tr>\n",
       "    <tr>\n",
       "      <th>6</th>\n",
       "      <td>Athens</td>\n",
       "      <td>1896</td>\n",
       "      <td>Aquatics</td>\n",
       "      <td>Swimming</td>\n",
       "      <td>HERSCHMANN, Otto</td>\n",
       "      <td>AUT</td>\n",
       "      <td>Men</td>\n",
       "      <td>100m freestyle</td>\n",
       "      <td>M</td>\n",
       "      <td>Silver</td>\n",
       "    </tr>\n",
       "    <tr>\n",
       "      <th>7</th>\n",
       "      <td>Athens</td>\n",
       "      <td>1896</td>\n",
       "      <td>Aquatics</td>\n",
       "      <td>Swimming</td>\n",
       "      <td>DRIVAS, Dimitrios</td>\n",
       "      <td>GRE</td>\n",
       "      <td>Men</td>\n",
       "      <td>100m freestyle for sailors</td>\n",
       "      <td>M</td>\n",
       "      <td>Bronze</td>\n",
       "    </tr>\n",
       "    <tr>\n",
       "      <th>8</th>\n",
       "      <td>Athens</td>\n",
       "      <td>1896</td>\n",
       "      <td>Aquatics</td>\n",
       "      <td>Swimming</td>\n",
       "      <td>MALOKINIS, Ioannis</td>\n",
       "      <td>GRE</td>\n",
       "      <td>Men</td>\n",
       "      <td>100m freestyle for sailors</td>\n",
       "      <td>M</td>\n",
       "      <td>Gold</td>\n",
       "    </tr>\n",
       "    <tr>\n",
       "      <th>9</th>\n",
       "      <td>Athens</td>\n",
       "      <td>1896</td>\n",
       "      <td>Aquatics</td>\n",
       "      <td>Swimming</td>\n",
       "      <td>CHASAPIS, Spiridon</td>\n",
       "      <td>GRE</td>\n",
       "      <td>Men</td>\n",
       "      <td>100m freestyle for sailors</td>\n",
       "      <td>M</td>\n",
       "      <td>Silver</td>\n",
       "    </tr>\n",
       "  </tbody>\n",
       "</table>\n",
       "</div>"
      ],
      "text/plain": [
       "4    City Edition     Sport Discipline             Athlete  NOC Gender  \\\n",
       "5  Athens    1896  Aquatics   Swimming       HAJOS, Alfred  HUN    Men   \n",
       "6  Athens    1896  Aquatics   Swimming    HERSCHMANN, Otto  AUT    Men   \n",
       "7  Athens    1896  Aquatics   Swimming   DRIVAS, Dimitrios  GRE    Men   \n",
       "8  Athens    1896  Aquatics   Swimming  MALOKINIS, Ioannis  GRE    Men   \n",
       "9  Athens    1896  Aquatics   Swimming  CHASAPIS, Spiridon  GRE    Men   \n",
       "\n",
       "4                       Event Event_gender   Medal  \n",
       "5              100m freestyle            M    Gold  \n",
       "6              100m freestyle            M  Silver  \n",
       "7  100m freestyle for sailors            M  Bronze  \n",
       "8  100m freestyle for sailors            M    Gold  \n",
       "9  100m freestyle for sailors            M  Silver  "
      ]
     },
     "execution_count": 18,
     "metadata": {},
     "output_type": "execute_result"
    }
   ],
   "source": [
    "ol = pd.read_csv(\"./asset/olympics.csv\", header=None)\n",
    "ol.columns = ol.iloc[4]\n",
    "ol=ol.tail(-5)\n",
    "ol.head()"
   ]
  },
  {
   "cell_type": "markdown",
   "metadata": {},
   "source": [
    "### World Cup Data"
   ]
  },
  {
   "cell_type": "code",
   "execution_count": null,
   "metadata": {},
   "outputs": [],
   "source": []
  },
  {
   "cell_type": "markdown",
   "metadata": {},
   "source": [
    "# Multiple Choice Prep\n",
    "\n",
    "### Regex (R)\n",
    "\n",
    "1. ^ operator\n",
    "\n",
    "if in [^], then negative set\n",
    "if outside [] or used alone, Beginning\n",
    "\n",
    "2. $ operator\n",
    "\n",
    "has to be used in the set []\n",
    "\n",
    "3. Capture Groups and ref back\n",
    "\n",
    "can capture set of match in between (), and you ref it by \\order\n",
    "\n",
    "### MongoDB (R)\n",
    "\n",
    "- Stands for Humongous Database\n",
    "- BSON -> NoSQL db, document oriented db\n",
    "- RDB scales up, NoSQL scales out.\n",
    "- DB -> Collection -> Document(BSON) -> Field\n",
    "- CRUD on Mongo\n",
    "    - C: db.collection.insert/save(<doc>), update({upsert:true})\n",
    "    - R: find(<query>, <projection>), findOne/find_one(<query>, <projection>)\n",
    "    - U: update(<query>, <update>, <options>)\n",
    "    - D: remove(<query>, <justOne>)\n",
    "- datatype\n",
    "    - Null\n",
    "    - Boolean\n",
    "    - String\n",
    "    - number\n",
    "    - Dates // new Date()\n",
    "    - Array // []\n",
    "    - embedded doc // {field: {field: val} }\n",
    "    - objid // {_id: ObjectId()}\n",
    "    \n",
    "[reference](https://docs.mongodb.com/manual/tutorial/query-documents/)\n",
    "\n",
    "### Pandas (R)\n",
    "\n",
    "- Create df from list: a list becomes a column\n",
    "- list of list: outermost list becomes a column. Thus, the values of inner lists are expanded to row\n",
    "- df from dict: key = column name, val = column data\n",
    "- add new column: df['newcol] = whatever\n",
    "- **axis**:1 = all COLs in each ROW, 0 = all ROWs in each COL (0:row, 1:col)\n",
    "- selecting column: df['column name'] // df[list(col names)]\n",
    "- iloc: row index (옆에 있는 자동으로 생기는 숫자). : for all rows\n",
    "- loc: row index as well, [row, column] for a single value \n",
    "- make boolean colum: df['col'].isin['vals']\n",
    "- \n",
    "- at: can use at to get value, and also assign value // df.at[row index, column name] = newval\n",
    "- iat: same as at but uses index for both column and row. Column is 0 indexed\n",
    "-sort_values(by=['column**s**'])\n",
    "- Groupby: returns an address. can call size, mean, sum, add_prefix(\"string\"), iterable.\n",
    "- Plot in Pandas: can use groupby on as well."
   ]
  },
  {
   "cell_type": "markdown",
   "metadata": {},
   "source": [
    "### Adv.Py (R)"
   ]
  },
  {
   "cell_type": "code",
   "execution_count": 19,
   "metadata": {},
   "outputs": [
    {
     "name": "stdout",
     "output_type": "stream",
     "text": [
      "22 44 99\n",
      "1 2 3\n"
     ]
    }
   ],
   "source": [
    "# Return multiple Values\n",
    "def foo():\n",
    "    a = 22\n",
    "    b = 44\n",
    "    c = 99\n",
    "    return a,b,c\n",
    "\n",
    "x,y,z = foo()\n",
    "print(x, y, z)\n",
    "\n",
    "# OR, use set\n",
    "\n",
    "def fooset():\n",
    "    a = 1\n",
    "    b = 2\n",
    "    c = 3\n",
    "    return {a,b,c}\n",
    "\n",
    "a,b,c = fooset()\n",
    "print(a,b,c)"
   ]
  },
  {
   "cell_type": "code",
   "execution_count": 20,
   "metadata": {},
   "outputs": [
    {
     "name": "stdout",
     "output_type": "stream",
     "text": [
      "Test was invoked\n",
      "['Texas', 'South Carolina', 'Georgia', 'Alabama']\n"
     ]
    }
   ],
   "source": [
    "# pass func to func\n",
    "import re\n",
    "\n",
    "def test():\n",
    "    print(\"Test was invoked\")\n",
    "    \n",
    "def invoker(func):\n",
    "    func()\n",
    "    \n",
    "invoker(test)\n",
    "\n",
    "# data that needs cleaning\n",
    "states = ['   TeXas','sOUth #caRolina  ', '  ?GEoRGIA', ' !Alabama!  ' ]\n",
    "\n",
    "def punc_strip(val):\n",
    "    return re.sub('[!?#]', '', val)\n",
    "    \n",
    "clean_list = [str.strip, punc_strip, str.title]\n",
    "\n",
    "def clean_string(string, ops):\n",
    "    result = []\n",
    "    for val in string:\n",
    "        for function in ops:\n",
    "            val = function(val)\n",
    "        result.append(val)\n",
    "    return result\n",
    "\n",
    "print (clean_string(states, clean_list))"
   ]
  },
  {
   "cell_type": "code",
   "execution_count": 21,
   "metadata": {},
   "outputs": [
    {
     "name": "stdout",
     "output_type": "stream",
     "text": [
      "first normal arg: python\n",
      "list of arg: java\n",
      "list of arg: cpp\n"
     ]
    }
   ],
   "source": [
    "# *args & **kwargs\n",
    "'''\n",
    "**kwargs : pass variable number of arguments to a function\n",
    "* args: non-keyworded variable length argument list\n",
    "'''\n",
    "\n",
    "def args_test(f_arg, *argv):\n",
    "    print(\"first normal arg:\", f_arg)\n",
    "    for arg in argv:\n",
    "        print(\"list of arg:\", arg)\n",
    "\n",
    "args_test('python', 'java', 'cpp')"
   ]
  },
  {
   "cell_type": "code",
   "execution_count": 22,
   "metadata": {},
   "outputs": [
    {
     "name": "stdout",
     "output_type": "stream",
     "text": [
      "name - ['lee', 'jake']\n",
      "age - [25, 22]\n"
     ]
    }
   ],
   "source": [
    "# kwargs\n",
    "\n",
    "def kwarg_test(**kwargs):\n",
    "    for key, value in kwargs.items():\n",
    "        print(\"{0} - {1}\".format(key, value))\n",
    "        \n",
    "kwarg_test(name=[\"lee\", \"jake\"], age=[25,22])"
   ]
  },
  {
   "cell_type": "code",
   "execution_count": 23,
   "metadata": {},
   "outputs": [
    {
     "name": "stdout",
     "output_type": "stream",
     "text": [
      "True\n",
      "[25, 36, 49, 64, 81]\n"
     ]
    }
   ],
   "source": [
    "# List Comprehension vs Loops\n",
    "'''\n",
    "new_list = [expression(i) for i in list if filter(i)]\n",
    "'''\n",
    "\n",
    "# Loop for list\n",
    "square_loop = []\n",
    "for x in range(10):\n",
    "    square_loop.append(x**2)\n",
    "\n",
    "# LC\n",
    "square_lc = [x**2 for x in range(10)]\n",
    "\n",
    "print(square_loop == square_lc)\n",
    "\n",
    "'''\n",
    "is vs ==\n",
    "\n",
    "list1 = [1,2]\n",
    "list2 = [1,2]\n",
    "\n",
    "list1 is list2 -> False\n",
    "list1 == list2 -> True\n",
    "\n",
    "'''\n",
    "\n",
    "# Full LC\n",
    "\n",
    "sqr_over_five = [x**2 for x in range(10) if x > 4]\n",
    "\n",
    "# The last bit is filter function\n",
    "# so it will return only the ones that pass the filter\n",
    "print (sqr_over_five)"
   ]
  },
  {
   "cell_type": "code",
   "execution_count": 24,
   "metadata": {},
   "outputs": [
    {
     "name": "stdout",
     "output_type": "stream",
     "text": [
      "True\n",
      "[2, 4, 6, 8]\n",
      "[2, 4, 6, 8]\n",
      "False\n",
      "False\n"
     ]
    }
   ],
   "source": [
    "# Lambda Function\n",
    "\n",
    "# Named function\n",
    "def add(x,y):\n",
    "    return x+y\n",
    "\n",
    "z = add(2,3)\n",
    "\n",
    "# OR, use Lambda\n",
    "# function invoker = lambda params : operation\n",
    "# add = fn x,y -> x+y end\n",
    "aadd = lambda x,y : x+y\n",
    "\n",
    "print(aadd(2,3) == z)\n",
    "\n",
    "def times2(x):\n",
    "    return x*2\n",
    "\n",
    "named = map(times2, [1,2,3,4])\n",
    "\n",
    "# Map returns obj so typecast to list\n",
    "print(list(named))\n",
    "print(list(map(lambda x:x*2, [1,2,3,4])))\n",
    "\n",
    "# This is false because the address of the two obj are not the same\n",
    "print(map(lambda x:x*2, [1,2,3,4]) == named)\n",
    "# ??????\n",
    "print(list(map(lambda x:x*2, [1,2,3,4])) == list(named))"
   ]
  },
  {
   "cell_type": "code",
   "execution_count": 25,
   "metadata": {},
   "outputs": [
    {
     "name": "stdout",
     "output_type": "stream",
     "text": [
      "['python', 'java']\n",
      "[100, 80]\n",
      "[True, False]\n"
     ]
    }
   ],
   "source": [
    "# Iterating Dict with map & lambda\n",
    "\n",
    "dict_a = [{'name': 'python', 'points': 10}, {'name': 'java', 'points': 8}]\n",
    "\n",
    "l1 = list(map(lambda x:x['name'], dict_a))\n",
    "print(l1)\n",
    "\n",
    "l2 = list(map(lambda x:x['points']*10, dict_a))\n",
    "print(l2)\n",
    "\n",
    "l3 = list(map(lambda x:x['name'] == \"python\", dict_a))\n",
    "print(l3)"
   ]
  },
  {
   "cell_type": "code",
   "execution_count": 26,
   "metadata": {},
   "outputs": [
    {
     "name": "stdout",
     "output_type": "stream",
     "text": [
      "[2, 4]\n"
     ]
    }
   ],
   "source": [
    "# Filter\n",
    "# Same as map, but returns reduced lsit\n",
    "\n",
    "list_a = [1,2,3,4]\n",
    "\n",
    "even = list(filter(lambda x:x%2 == 0, list_a))\n",
    "\n",
    "print(even)"
   ]
  },
  {
   "cell_type": "code",
   "execution_count": 27,
   "metadata": {},
   "outputs": [
    {
     "name": "stdout",
     "output_type": "stream",
     "text": [
      "[(1, 'a'), (2, 'b'), (3, 'c'), (4, 'd')]\n",
      "[('a', '1', 'm'), ('b', '2', 'm'), ('c', '3', 'm')]\n"
     ]
    }
   ],
   "source": [
    "# Zip\n",
    "# iterabless to tuple. Not DICT\n",
    "\n",
    "list1 = [1,2,3,4]\n",
    "list2 = list('abcd')\n",
    "\n",
    "zipset = list(zip(list1, list2))\n",
    "\n",
    "print(zipset)\n",
    "\n",
    "la = list('abc')\n",
    "lb = list('123')\n",
    "lc = list('mmm')\n",
    "\n",
    "threezip = list(zip(la,lb,lc))\n",
    "\n",
    "print(threezip)"
   ]
  },
  {
   "cell_type": "code",
   "execution_count": 28,
   "metadata": {},
   "outputs": [
    {
     "name": "stdout",
     "output_type": "stream",
     "text": [
      "a:1\n",
      "b:2\n"
     ]
    }
   ],
   "source": [
    "# Iterables\n",
    "# List, String, Set, \n",
    "\n",
    "it1 = list('abcdf')\n",
    "dit = {'a':'1', 'b':'2'}\n",
    "\n",
    "grade = iter(it1)\n",
    "dictiter = iter(dit)\n",
    "\n",
    "# for i in range(len(it1)):\n",
    "#     print(next(grade))\n",
    "    \n",
    "# For Dict, only traverse the key\n",
    "for i in range(len(dit)):\n",
    "    keystore = next(dictiter)\n",
    "    print('{0}:{1}'.format(keystore, dit[keystore]))"
   ]
  },
  {
   "cell_type": "code",
   "execution_count": 29,
   "metadata": {},
   "outputs": [],
   "source": [
    "# Build my Iterator\n",
    "\n",
    "class Sqr:\n",
    "    def __init__(self, max=0):\n",
    "        self.max = max\n",
    "    \n",
    "    # When created, set te counter and return the instance -> keeps state\n",
    "    def __iter__(self):\n",
    "        self.n = 0\n",
    "        return self\n",
    "    \n",
    "    def __next__(self):\n",
    "        if self.n <= self.max:\n",
    "            result = 2**self.n\n",
    "            self.n += 1\n",
    "            return result\n",
    "        else:\n",
    "            raise StopIteration"
   ]
  },
  {
   "cell_type": "code",
   "execution_count": 30,
   "metadata": {},
   "outputs": [
    {
     "name": "stdout",
     "output_type": "stream",
     "text": [
      "1\n",
      "2\n",
      "4\n",
      "8\n",
      "16\n",
      "32\n",
      "64\n",
      "128\n",
      "256\n",
      "512\n",
      "1024\n"
     ]
    }
   ],
   "source": [
    "myiter = Sqr(10)\n",
    "\n",
    "for k in myiter:\n",
    "    print(k)"
   ]
  },
  {
   "cell_type": "code",
   "execution_count": 31,
   "metadata": {},
   "outputs": [],
   "source": [
    "# Generators\n",
    "def my_gen():\n",
    "    n = 1\n",
    "    print(\"first\")\n",
    "    yield n\n",
    "    \n",
    "    n+=1\n",
    "    print(\"second\")\n",
    "    yield n\n",
    "    \n",
    "    n += 1\n",
    "    print(\"third\")\n",
    "    yield n\n",
    "    \n",
    "gen = my_gen()\n",
    "\n",
    "# while True:\n",
    "#     print(next(gen))\n",
    "\n",
    "# WHY? why only 2?\n",
    "# for k in gen:\n",
    "#     print(next(gen))"
   ]
  },
  {
   "cell_type": "code",
   "execution_count": 32,
   "metadata": {},
   "outputs": [],
   "source": [
    "# Gen Comp\n",
    "\n",
    "mylist = [1,2,3,4]\n",
    "\n",
    "newlc = [x**2 for x in mylist]\n",
    "newmaplist = list(map(lambda x:x**2, mylist))\n",
    "\n",
    "lazygen = (x**2 for x in mylist)\n",
    "lazymap = (map(lambda x:x**2, mylist))\n",
    "\n",
    "# while True:\n",
    "#     print(next(lazygen))"
   ]
  },
  {
   "cell_type": "code",
   "execution_count": 33,
   "metadata": {},
   "outputs": [],
   "source": [
    "# Reduce\n",
    "\n",
    "rlist = [1,2,3,4,5,6]\n",
    "\n",
    "rsum = reduce(lambda a,b: a+b, rlist)\n",
    "rmax = reduce(lambda a,b: a if a>b else b, rlist)\n",
    "ravg = reduce(lambda a,b: a+b, rlist) / len(rlist)"
   ]
  },
  {
   "cell_type": "code",
   "execution_count": 34,
   "metadata": {},
   "outputs": [
    {
     "name": "stdout",
     "output_type": "stream",
     "text": [
      "Sum is: 21\n"
     ]
    }
   ],
   "source": [
    "# Operator\n",
    "# Reference : https://docs.python.org/3.4/library/operator.html\n",
    "\n",
    "olist = [1,2,3,4,5,6]\n",
    "\n",
    "print(\"Sum is: \",end=\"\")\n",
    "print(reduce(operator.add, olist))"
   ]
  },
  {
   "cell_type": "code",
   "execution_count": 35,
   "metadata": {},
   "outputs": [],
   "source": [
    "# itertools\n",
    "\n",
    "# Goes fucking forever\n",
    "newiter = itertools.count(10)"
   ]
  },
  {
   "cell_type": "code",
   "execution_count": 36,
   "metadata": {},
   "outputs": [
    {
     "name": "stdout",
     "output_type": "stream",
     "text": [
      "100\n",
      "101\n",
      "102\n",
      "103\n",
      "104\n"
     ]
    }
   ],
   "source": [
    "# islice -> why not range (100, 105)?\n",
    "for i in itertools.islice(itertools.count(100), 5):\n",
    "    print(i)"
   ]
  },
  {
   "cell_type": "code",
   "execution_count": 37,
   "metadata": {},
   "outputs": [
    {
     "name": "stdout",
     "output_type": "stream",
     "text": [
      "x\n",
      "y\n",
      "z\n",
      "x\n",
      "y\n",
      "z\n",
      "x\n",
      "y\n"
     ]
    }
   ],
   "source": [
    "# Cycle -> repeats a sequence for given range\n",
    "myiter = itertools.cycle('xyz')\n",
    "\n",
    "for i in range(8):\n",
    "    print(next(myiter))"
   ]
  },
  {
   "cell_type": "code",
   "execution_count": 38,
   "metadata": {},
   "outputs": [
    {
     "name": "stdout",
     "output_type": "stream",
     "text": [
      "5\n",
      "6\n",
      "7\n",
      "8\n",
      "9\n",
      "10\n"
     ]
    }
   ],
   "source": [
    "# dropwhile\n",
    "\n",
    "dropiter = itertools.dropwhile(lambda x:x<5, [1,2,3,4,5,6,7,8,9,10])\n",
    "\n",
    "for i in dropiter:\n",
    "    print(i)"
   ]
  },
  {
   "cell_type": "markdown",
   "metadata": {},
   "source": [
    "### Stats\n",
    "\n",
    "- corr: shows strength vector ofthe relation\n",
    "    - 1: perfect correlation\n",
    "    - \\-1: inverse correlation\n",
    "    - 0: no correlation\n",
    "- p_value: shows the negative data alignment with the null hypothesis. -> smaller the p number, easier to reject h_0.\n",
    "    - <= 0.01: Linear Relation, significant\n",
    "    - \\> 0.01: Non-linear, insignificant."
   ]
  },
  {
   "cell_type": "code",
   "execution_count": 39,
   "metadata": {},
   "outputs": [
    {
     "name": "stdout",
     "output_type": "stream",
     "text": [
      "correlation = 1 and p_value = 0\n",
      "-1.0 0.0\n",
      "0.12848904218751167 0.7836663589301511\n"
     ]
    }
   ],
   "source": [
    "# Stats\n",
    "from scipy.stats import pearsonr\n",
    "import random as rnd\n",
    "\n",
    "list1 = [2,4,6,8,10,12,14]\n",
    "list2 = [2,4,6,8,10,12,14]\n",
    "\n",
    "corr, p_value = pearsonr(list1, list2)\n",
    "print(\"correlation = %d and p_value = %d\" % (corr, p_value) )\n",
    "\n",
    "list3 = [14,12,10,8,6,4,2]\n",
    "corr, p_value = pearsonr(list1, list3)\n",
    "print(corr, p_value)\n",
    "\n",
    "list4 = [2,12,4,10,5,12,4]\n",
    "\n",
    "corr, p_value = pearsonr(list1, list4)\n",
    "print(corr, p_value)"
   ]
  },
  {
   "cell_type": "code",
   "execution_count": 46,
   "metadata": {},
   "outputs": [
    {
     "data": {
      "text/plain": [
       "0"
      ]
     },
     "execution_count": 46,
     "metadata": {},
     "output_type": "execute_result"
    }
   ],
   "source": [
    "c = Counter('abcdaab')\n",
    "c['z']"
   ]
  },
  {
   "cell_type": "code",
   "execution_count": null,
   "metadata": {},
   "outputs": [],
   "source": []
  }
 ],
 "metadata": {
  "kernelspec": {
   "display_name": "Python 3",
   "language": "python",
   "name": "python3"
  },
  "language_info": {
   "codemirror_mode": {
    "name": "ipython",
    "version": 3
   },
   "file_extension": ".py",
   "mimetype": "text/x-python",
   "name": "python",
   "nbconvert_exporter": "python",
   "pygments_lexer": "ipython3",
   "version": "3.6.4"
  }
 },
 "nbformat": 4,
 "nbformat_minor": 2
}
