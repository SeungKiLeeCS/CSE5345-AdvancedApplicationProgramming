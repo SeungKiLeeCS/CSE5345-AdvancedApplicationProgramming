{
 "cells": [
  {
   "cell_type": "code",
   "execution_count": 1,
   "metadata": {},
   "outputs": [],
   "source": [
    "from collections import Counter\n",
    "from functools import reduce\n",
    "import matplotlib.pyplot as plt\n",
    "import numpy as np\n",
    "import random"
   ]
  },
  {
   "cell_type": "code",
   "execution_count": 2,
   "metadata": {},
   "outputs": [],
   "source": [
    "# Utility function\n",
    "def runtime(f):\n",
    "    import timeit\n",
    "    start = timeit.default_timer()\n",
    "    f\n",
    "    end = timeit.default_timer()\n",
    "    return(end - start) \n",
    "\n",
    "# My Function\n",
    "def wordsInStringToDictWordCount(istr):\n",
    "    \n",
    "    return_dict = {}\n",
    "    \n",
    "    if len(istr) > 1:      \n",
    "        temp_list = istr.split()\n",
    "        \n",
    "        for i in temp_list:\n",
    "            if i in return_dict:\n",
    "                return_dict[i] += 1\n",
    "            else:\n",
    "                return_dict[i] = 1\n",
    "                \n",
    "    return return_dict\n",
    "\n",
    "# Counter class\n",
    "def beatTheCounter(istr):\n",
    "    cnt = Counter()\n",
    "    temp_list = istr.split()\n",
    "    \n",
    "    for i in temp_list:\n",
    "        cnt[i] += 1\n",
    "\n",
    "    return cnt"
   ]
  },
  {
   "cell_type": "code",
   "execution_count": 3,
   "metadata": {},
   "outputs": [
    {
     "name": "stdout",
     "output_type": "stream",
     "text": [
      "5.19001332577318e-07\n",
      "6.000009307172149e-07\n"
     ]
    }
   ],
   "source": [
    "with open('./lstring.txt', 'r') as fstr:\n",
    "    longstring = fstr.read().replace('\\n', ' ')\n",
    "\n",
    "mytime = runtime(wordsInStringToDictWordCount(longstring))\n",
    "cnttime = runtime(beatTheCounter(longstring))\n",
    "print (mytime)\n",
    "print (cnttime)"
   ]
  },
  {
   "cell_type": "markdown",
   "metadata": {},
   "source": [
    "## Run it 100 times to test average performance"
   ]
  },
  {
   "cell_type": "code",
   "execution_count": 4,
   "metadata": {},
   "outputs": [],
   "source": [
    "mytimelist = []\n",
    "cnttimelist = []\n",
    "\n",
    "for i in range (0,100):\n",
    "    mytimelist.append(runtime(wordsInStringToDictWordCount(longstring)))\n",
    "    cnttimelist.append(runtime(beatTheCounter(longstring)))"
   ]
  },
  {
   "cell_type": "code",
   "execution_count": 5,
   "metadata": {},
   "outputs": [
    {
     "name": "stdout",
     "output_type": "stream",
     "text": [
      "7.202298436710802e-07\n",
      "6.049391728393373e-07\n"
     ]
    }
   ],
   "source": [
    "avg_mytime = reduce(lambda x, y: (x + y) / 2, mytimelist)\n",
    "avg_cnttime = reduce(lambda x, y: (x + y) / 2, cnttimelist)\n",
    "\n",
    "print (avg_mytime)\n",
    "print (avg_cnttime)"
   ]
  },
  {
   "cell_type": "code",
   "execution_count": 6,
   "metadata": {},
   "outputs": [
    {
     "data": {
      "image/png": "[encoded data removed]",
      "text/plain": [
       "<matplotlib.figure.Figure at 0x7f918f7ace48>"
      ]
     },
     "metadata": {},
     "output_type": "display_data"
    }
   ],
   "source": [
    "%matplotlib inline\n",
    "\n",
    "# The yval position is reversed, but according to the numbers computed, cnt took shorter time than my function.\n",
    "yval = [avg_cnttime, avg_mytime]\n",
    "x = [\"Me\", \"Counter\"]\n",
    "plt.figure(figsize=(10,6))\n",
    "plt.bar(x, yval, color='gold')\n",
    "plt.xticks(x)\n",
    "plt.xlabel(\"Performance\")\n",
    "plt.ylabel(\"Function Call By\")\n",
    "plt.title(\"Counter Performance\")\n",
    "plt.show()"
   ]
  },
  {
   "cell_type": "code",
   "execution_count": null,
   "metadata": {},
   "outputs": [],
   "source": []
  }
 ],
 "metadata": {
  "kernelspec": {
   "display_name": "Python 3",
   "language": "python",
   "name": "python3"
  },
  "language_info": {
   "codemirror_mode": {
    "name": "ipython",
    "version": 3
   },
   "file_extension": ".py",
   "mimetype": "text/x-python",
   "name": "python",
   "nbconvert_exporter": "python",
   "pygments_lexer": "ipython3",
   "version": "3.6.4"
  }
 },
 "nbformat": 4,
 "nbformat_minor": 2
}
