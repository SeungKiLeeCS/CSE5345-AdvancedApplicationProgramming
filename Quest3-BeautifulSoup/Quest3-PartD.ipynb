{
 "cells": [
  {
   "cell_type": "code",
   "execution_count": 1,
   "metadata": {},
   "outputs": [],
   "source": [
    "import csv\n",
    "import sys\n",
    "import json\n",
    "import operator\n",
    "import matplotlib.pyplot as plt"
   ]
  },
  {
   "cell_type": "code",
   "execution_count": 2,
   "metadata": {},
   "outputs": [],
   "source": [
    "# example code from https://docs.python.org/3/library/csv.html\n",
    "templist= []\n",
    "with open('./worldcup.csv', newline='') as csvfile:\n",
    "    spamreader = csv.reader(csvfile, delimiter=' ', quotechar='|')\n",
    "    for row in spamreader:\n",
    "        templist.append(row)\n",
    "\n",
    "csvfile.close()"
   ]
  },
  {
   "cell_type": "code",
   "execution_count": 3,
   "metadata": {},
   "outputs": [],
   "source": [
    "anotherlist= []\n",
    "\n",
    "for i in templist:\n",
    "    for j in i:\n",
    "        anotherlist.append(j.split(','))\n",
    "\n",
    "\n",
    "jsonlist = []\n",
    "        \n",
    "for i in range(1,22):\n",
    "    a_json_obj = {\n",
    "        anotherlist[0][0]:anotherlist[i][0],        \n",
    "        anotherlist[0][1]:int(anotherlist[i][1]),        \n",
    "        anotherlist[0][2]:anotherlist[i][2],        \n",
    "        anotherlist[0][3]:anotherlist[i][3],        \n",
    "        anotherlist[0][4]:anotherlist[i][4],        \n",
    "        anotherlist[0][5]:anotherlist[i][5],        \n",
    "        anotherlist[0][6]:anotherlist[i][6],        \n",
    "        anotherlist[0][7]:int(anotherlist[i][7]),\n",
    "        anotherlist[0][8]:int(anotherlist[i][8]),        \n",
    "        anotherlist[0][9]:int(anotherlist[i][9])            \n",
    "    }\n",
    "    \n",
    "    jsonlist.append(a_json_obj)\n",
    "\n",
    "# print(json.dumps(jsonlist, indent=2))"
   ]
  },
  {
   "cell_type": "code",
   "execution_count": 4,
   "metadata": {},
   "outputs": [
    {
     "name": "stdout",
     "output_type": "stream",
     "text": [
      "[\n",
      "  {\n",
      "    \"WorldCup\": \"wc1998\",\n",
      "    \"year\": 1998,\n",
      "    \"location\": \"France\",\n",
      "    \"first\": \"France\",\n",
      "    \"second\": \"Brazil\",\n",
      "    \"third\": \"Croatia\",\n",
      "    \"fourth\": \"Netherlands\",\n",
      "    \"goalsScored\": 171,\n",
      "    \"matchesPlayed\": 64,\n",
      "    \"attendance\": 2785100\n",
      "  },\n",
      "  {\n",
      "    \"WorldCup\": \"wc2014\",\n",
      "    \"year\": 2014,\n",
      "    \"location\": \"Brazil\",\n",
      "    \"first\": \"Germany\",\n",
      "    \"second\": \"Argentina\",\n",
      "    \"third\": \"Netherlands\",\n",
      "    \"fourth\": \"Brazil\",\n",
      "    \"goalsScored\": 171,\n",
      "    \"matchesPlayed\": 64,\n",
      "    \"attendance\": 3386810\n",
      "  },\n",
      "  {\n",
      "    \"WorldCup\": \"wc2018\",\n",
      "    \"year\": 2018,\n",
      "    \"location\": \"Russia\",\n",
      "    \"first\": \"France\",\n",
      "    \"second\": \"Croatia\",\n",
      "    \"third\": \"Belgium\",\n",
      "    \"fourth\": \"England\",\n",
      "    \"goalsScored\": 169,\n",
      "    \"matchesPlayed\": 64,\n",
      "    \"attendance\": 3430000\n",
      "  },\n",
      "  {\n",
      "    \"WorldCup\": \"wc2002\",\n",
      "    \"year\": 2002,\n",
      "    \"location\": \"Korea_Japan\",\n",
      "    \"first\": \"Brazil\",\n",
      "    \"second\": \"Germany\",\n",
      "    \"third\": \"Turkey\",\n",
      "    \"fourth\": \"KoreaRepublic\",\n",
      "    \"goalsScored\": 161,\n",
      "    \"matchesPlayed\": 64,\n",
      "    \"attendance\": 2705197\n",
      "  },\n",
      "  {\n",
      "    \"WorldCup\": \"wc2006\",\n",
      "    \"year\": 2006,\n",
      "    \"location\": \"Germany\",\n",
      "    \"first\": \"Italy\",\n",
      "    \"second\": \"France\",\n",
      "    \"third\": \"Germany\",\n",
      "    \"fourth\": \"Portugal\",\n",
      "    \"goalsScored\": 147,\n",
      "    \"matchesPlayed\": 64,\n",
      "    \"attendance\": 3359439\n",
      "  }\n",
      "]\n"
     ]
    }
   ],
   "source": [
    "jsonlist = sorted(jsonlist, key=lambda k: k['goalsScored'], reverse=True)\n",
    "print(json.dumps(jsonlist[0:5], indent=2))"
   ]
  },
  {
   "cell_type": "code",
   "execution_count": 5,
   "metadata": {},
   "outputs": [
    {
     "name": "stdout",
     "output_type": "stream",
     "text": [
      "[1998, 2014, 2018, 2002, 2006]\n",
      "[171, 171, 169, 161, 147]\n"
     ]
    }
   ],
   "source": [
    "# Extract the two values needed\n",
    "yearlist = []\n",
    "goallist = []\n",
    "\n",
    "for i in range (0,5):\n",
    "    yearlist.append(jsonlist[i].get('year'))\n",
    "    goallist.append(jsonlist[i].get('goalsScored'))\n",
    "\n",
    "print (yearlist)\n",
    "print (goallist)"
   ]
  },
  {
   "cell_type": "code",
   "execution_count": 8,
   "metadata": {},
   "outputs": [
    {
     "data": {
      "image/png": "[encoded data removed]",
      "text/plain": [
       "<matplotlib.figure.Figure at 0x7f82a60ecb00>"
      ]
     },
     "metadata": {},
     "output_type": "display_data"
    }
   ],
   "source": [
    "%matplotlib inline\n",
    "\n",
    "x = yearlist\n",
    "yval = goallist\n",
    "x_pos = [i for i, _ in enumerate(x)]\n",
    "# Graph\n",
    "plt.figure(figsize=(10,6))\n",
    "plt.bar(x_pos, yval, color='skyblue')\n",
    "plt.xticks(x_pos, x)\n",
    "plt.xlabel(\"World Cup Year\")\n",
    "plt.ylabel(\"# of Goals\")\n",
    "plt.title(\"5 World Cups with Most Goals\")\n",
    "plt.show()"
   ]
  },
  {
   "cell_type": "code",
   "execution_count": null,
   "metadata": {},
   "outputs": [],
   "source": []
  }
 ],
 "metadata": {
  "kernelspec": {
   "display_name": "Python 3",
   "language": "python",
   "name": "python3"
  },
  "language_info": {
   "codemirror_mode": {
    "name": "ipython",
    "version": 3
   },
   "file_extension": ".py",
   "mimetype": "text/x-python",
   "name": "python",
   "nbconvert_exporter": "python",
   "pygments_lexer": "ipython3",
   "version": "3.6.4"
  }
 },
 "nbformat": 4,
 "nbformat_minor": 2
}
