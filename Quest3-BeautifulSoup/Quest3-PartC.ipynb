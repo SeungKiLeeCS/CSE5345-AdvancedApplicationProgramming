{
 "cells": [
  {
   "cell_type": "code",
   "execution_count": 1,
   "metadata": {},
   "outputs": [],
   "source": [
    "import re"
   ]
  },
  {
   "cell_type": "code",
   "execution_count": 4,
   "metadata": {},
   "outputs": [],
   "source": [
    "def validEmail(address, regex):\n",
    "    return re.match(regex, address) is not None"
   ]
  },
  {
   "cell_type": "code",
   "execution_count": 5,
   "metadata": {},
   "outputs": [],
   "source": [
    "my_regex = r'^[A-Za-z0-9][A-Za-z0-9\\.]*[A-Za-z0-9]@{1}[a-zA-Z]{1}[A-Za-z\\_]*[a-zA-Z]\\.{1}[edu|org|com]'\n",
    "\n",
    "test_address = [\n",
    "    \"abc@smu.edu\",    # regular -> true\n",
    "    \"a.b.c@smu.edu\",  # multiple dots -> true\n",
    "    \".abc@smu.edu\",   # dot first -> false\n",
    "    \"abc.@smu.edu\",   # dot last -> false\n",
    "    \"abcsmu.edu\",     # no@ sign -> false\n",
    "    \"abc@s_m_u.edu\",  # underscore -> true\n",
    "    \"abc@_smu.edu\",   # _ first -> false\n",
    "    \"abc@smu_.edu\",   # _ last -> false\n",
    "    \"abc@5mu.edu\",    # number in d1 -> false\n",
    "    \"abc@smu.ecu\"     # .com, .org, .edu\n",
    "]"
   ]
  },
  {
   "cell_type": "code",
   "execution_count": null,
   "metadata": {},
   "outputs": [],
   "source": []
  }
 ],
 "metadata": {
  "kernelspec": {
   "display_name": "Python 3",
   "language": "python",
   "name": "python3"
  },
  "language_info": {
   "codemirror_mode": {
    "name": "ipython",
    "version": 3
   },
   "file_extension": ".py",
   "mimetype": "text/x-python",
   "name": "python",
   "nbconvert_exporter": "python",
   "pygments_lexer": "ipython3",
   "version": "3.6.4"
  }
 },
 "nbformat": 4,
 "nbformat_minor": 2
}
