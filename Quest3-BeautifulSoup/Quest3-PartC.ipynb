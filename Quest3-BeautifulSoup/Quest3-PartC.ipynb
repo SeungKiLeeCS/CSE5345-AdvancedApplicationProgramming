{
 "cells": [
  {
   "cell_type": "code",
   "execution_count": null,
   "metadata": {},
   "outputs": [],
   "source": [
    "import re"
   ]
  },
  {
   "cell_type": "markdown",
   "metadata": {},
   "source": [
    "## Function"
   ]
  },
  {
   "cell_type": "code",
   "execution_count": null,
   "metadata": {},
   "outputs": [],
   "source": [
    "def validEmail(address, regex):\n",
    "    return re.match(regex, address) is not None"
   ]
  },
  {
   "cell_type": "code",
   "execution_count": null,
   "metadata": {},
   "outputs": [],
   "source": [
    "my_regex = r'^[A-Za-z0-9][A-Za-z0-9\\.]*[A-Za-z0-9]@{1}[a-zA-Z]{1}[A-Za-z\\_]*[a-zA-Z]\\.{1}[edu|org|com]'"
   ]
  },
  {
   "cell_type": "markdown",
   "metadata": {},
   "source": [
    "## PYTEST"
   ]
  },
  {
   "cell_type": "code",
   "execution_count": null,
   "metadata": {},
   "outputs": [],
   "source": [
    "# Testfile for basicPythonQuest.py\n",
    "import pytest\n",
    "import myreg\n",
    "\n",
    "\n",
    "# TESTS   \n",
    "\n",
    "# Test for Local\n",
    "\n",
    "# Regular\n",
    "def test_validlocal1():\n",
    "    assert myreg.validEmail(\"abc@smu.edu\") == True\n",
    "\n",
    "# dots between\n",
    "def test_validlocal2():\n",
    "    assert myreg.validEmail(\"a.b.c@smu.edu\") == True\n",
    "\n",
    "# dot at start -> false\n",
    "def test_validlocal3():\n",
    "    assert myreg.validEmail(\".abc@smu.edu\") == False\n",
    "\n",
    "# dot at end -> false\n",
    "def test_validlocal4():\n",
    "    assert myreg.validEmail(\"abc.@smu.edu\") == False\n",
    "\n",
    "# Captial Letters\n",
    "def test_validlocal5():\n",
    "    assert myreg.validEmail(\"a.Bc@smu.edu\") == True\n",
    "\n",
    "def test_validlocal6():\n",
    "    assert myreg.validEmail(\"Ab.c@smu.edu\") == True\n",
    "\n",
    "# Start/end with underscore -> false\n",
    "def test_validlocal7():\n",
    "    assert myreg.validEmail(\"_b.c_@smu.edu\") == False\n",
    "\n",
    "\n",
    "# Test for @\n",
    "\n",
    "def test_symbol0():\n",
    "    assert myreg.validEmail(\"abc@@smu.edu\") == False\n",
    "\n",
    "def test_symbol1():\n",
    "    assert myreg.validEmail(\"abc2smu.edu\") == False\n",
    "\n",
    "def test_symbol2():\n",
    "    assert myreg.validEmail(\"abc!smu.edu\") == False\n",
    "\n",
    "def test_symbol3():\n",
    "    assert myreg.validEmail(\"abcsmu.edu\") == False\n",
    "\n",
    "# Test for domain1\n",
    "\n",
    "# _ in the middle\n",
    "def test_fdomain1():\n",
    "    assert myreg.validEmail(\"abc@s_m_u.edu\") == True\n",
    "\n",
    "# _ start -> false\n",
    "def test_fdomain2():\n",
    "    assert myreg.validEmail(\"abc@_smu.edu\") == False\n",
    "\n",
    "# _ end -> false\n",
    "def test_fdomain3():\n",
    "    assert myreg.validEmail(\"abc@s_m_u_.edu\") == False\n",
    "\n",
    "# number in domain -> false\n",
    "def test_fdomain4():\n",
    "    assert myreg.validEmail(\"abc@s8u.edu\") == False\n",
    "\n",
    "# special char in domain -> false\n",
    "def test_fdomain5():\n",
    "    assert myreg.validEmail(\"abc@s_m!u.edu\") == False\n",
    "\n",
    "# Test for domain2\n",
    "\n",
    "def test_sdomain1():\n",
    "    assert myreg.validEmail(\"abc@smu.org\") == True\n",
    "\n",
    "def test_sdomain2():\n",
    "    assert myreg.validEmail(\"abc@smu.com\") == True\n",
    "\n",
    "def test_sdomain3():\n",
    "    assert myreg.validEmail(\"abc@smu.kr\") == False\n",
    "\n",
    "# Final Test -> Something convoluted and wierd but fitting the email description\n",
    "def test_final():\n",
    "    assert myreg.validEmail(\"This.can.be.1@Email_that_wilL_Satisfy_the_requirements.com\") == True\n",
    "\n",
    "if __name__ == '__main__':\n",
    "    print(\"Testing my_regex.py\")\n",
    "    pytest.main()"
   ]
  },
  {
   "cell_type": "markdown",
   "metadata": {},
   "source": [
    "## Results"
   ]
  },
  {
   "cell_type": "markdown",
   "metadata": {},
   "source": [
    "![Results](./Quest3-PartC-Result.png)"
   ]
  }
 ],
 "metadata": {
  "kernelspec": {
   "display_name": "Python 3",
   "language": "python",
   "name": "python3"
  },
  "language_info": {
   "codemirror_mode": {
    "name": "ipython",
    "version": 3
   },
   "file_extension": ".py",
   "mimetype": "text/x-python",
   "name": "python",
   "nbconvert_exporter": "python",
   "pygments_lexer": "ipython3",
   "version": "3.6.4"
  }
 },
 "nbformat": 4,
 "nbformat_minor": 2
}
