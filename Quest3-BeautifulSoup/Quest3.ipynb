{
 "cells": [
  {
   "cell_type": "markdown",
   "metadata": {},
   "source": [
    "# Quest3"
   ]
  },
  {
   "cell_type": "markdown",
   "metadata": {},
   "source": [
    "## Part A. Web Scrapping"
   ]
  },
  {
   "cell_type": "code",
   "execution_count": 1,
   "metadata": {},
   "outputs": [],
   "source": [
    "from bs4 import BeautifulSoup as bs\n",
    "import requests as req\n",
    "import matplotlib.pyplot as plt\n",
    "import numpy as np\n",
    "import re"
   ]
  },
  {
   "cell_type": "code",
   "execution_count": 2,
   "metadata": {},
   "outputs": [],
   "source": [
    "res = req.get(\"https://www.nasdaq.com/quotes/stock-quotes.aspx\")"
   ]
  },
  {
   "cell_type": "code",
   "execution_count": 3,
   "metadata": {},
   "outputs": [],
   "source": [
    "soup = bs(res.content, \"html.parser\")"
   ]
  },
  {
   "cell_type": "markdown",
   "metadata": {},
   "source": [
    "## Parse HTML"
   ]
  },
  {
   "cell_type": "code",
   "execution_count": 75,
   "metadata": {},
   "outputs": [
    {
     "name": "stdout",
     "output_type": "stream",
     "text": [
      "['Micron', 'Invesco QQQ Trust', 'Marvell', 'Cronos', 'Apple']\n",
      "[29278051, 25905730, 19307324, 16850915, 15262370]\n",
      "[0.47, -0.31, 0.07, 0.36, 0.46]\n",
      "\n",
      "\n",
      "\n"
     ]
    }
   ],
   "source": [
    "\n",
    "tableNode = soup.select('td')\n",
    "\n",
    "namelist = []\n",
    "volumelist = []\n",
    "percentlist = []\n",
    "\n",
    "# 1~20\n",
    "# 1 : Name\n",
    "# 3 : PctChange\n",
    "# 4 : Volume\n",
    "for i in range(1,21):\n",
    "    if i%4 == 0:\n",
    "        volumelist.append(int(str(tableNode[i]).replace('<td>', '').replace(' </td>', '').replace(',', '')))\n",
    "        conamestr = re.sub(r'</div>\\n</td>', '', re.sub(r'<td>(?s).*coName small\">', '', str(tableNode[i-3])))\n",
    "        conamestr = re.sub(r',(s?).*','',conamestr.replace('Inc.', '').replace('Group', '').replace('Ltd.', '').replace('Technology', ''))\n",
    "        namelist.append(conamestr.strip())\n",
    "        percentchange = str(tableNode[i-1])\n",
    "        if \"▼\" in percentchange:\n",
    "            percentchange = float('-' + re.sub(r'\\D.\\D(?s).*</span></td>', '', re.sub(r'<td><span class=\".*\">', '', str(tableNode[i-1]))))\n",
    "        else:\n",
    "            percentchange = float(re.sub(r'\\D.\\D(?s).*</span></td>', '', re.sub(r'<td><span class=\".*\">', '', str(tableNode[i-1]))))\n",
    "\n",
    "        percentlist.append(percentchange)\n",
    "\n",
    "print(namelist)\n",
    "print(volumelist)\n",
    "print(percentlist)"
   ]
  },
  {
   "cell_type": "markdown",
   "metadata": {},
   "source": [
    "## Volume"
   ]
  },
  {
   "cell_type": "code",
   "execution_count": 76,
   "metadata": {},
   "outputs": [],
   "source": [
    "%matplotlib inline\n",
    "\n",
    "x = namelist\n",
    "yval = volumelist\n",
    "x_pos = [i for i, _ in enumerate(x)]"
   ]
  },
  {
   "cell_type": "code",
   "execution_count": 77,
   "metadata": {},
   "outputs": [
    {
     "data": {
      "image/png": "[encoded data removed]",
      "text/plain": [
       "<matplotlib.figure.Figure at 0x7f71a97d7908>"
      ]
     },
     "metadata": {},
     "output_type": "display_data"
    }
   ],
   "source": [
    "plt.figure(figsize=(10,6))\n",
    "plt.bar(x_pos, yval, color='green')\n",
    "plt.xticks(x_pos, x)\n",
    "plt.xlabel(\"Company\")\n",
    "plt.ylabel(\"Volume\")\n",
    "plt.title(\"Most Active Sept.7, 2018\")\n",
    "plt.show()"
   ]
  },
  {
   "cell_type": "code",
   "execution_count": 78,
   "metadata": {},
   "outputs": [],
   "source": [
    "%matplotlib inline\n",
    "\n",
    "x = namelist\n",
    "yval = percentlist\n",
    "x_pos = [i for i, _ in enumerate(x)]"
   ]
  },
  {
   "cell_type": "markdown",
   "metadata": {},
   "source": [
    "## Percent Change"
   ]
  },
  {
   "cell_type": "code",
   "execution_count": 79,
   "metadata": {},
   "outputs": [
    {
     "data": {
      "image/png": "[encoded data removed]",
      "text/plain": [
       "<matplotlib.figure.Figure at 0x7f71a97ed2e8>"
      ]
     },
     "metadata": {},
     "output_type": "display_data"
    }
   ],
   "source": [
    "plt.figure(figsize=(10,6))\n",
    "plt.bar(x_pos, yval, color='red')\n",
    "plt.xticks(x_pos, x)\n",
    "plt.xlabel(\"Company\")\n",
    "plt.ylabel(\"Δ%\")\n",
    "plt.title(\"Percent Change Sept.7, 2018\")\n",
    "plt.show()"
   ]
  },
  {
   "cell_type": "markdown",
   "metadata": {},
   "source": [
    "## Part B. Timing Comparison"
   ]
  },
  {
   "cell_type": "code",
   "execution_count": 98,
   "metadata": {},
   "outputs": [],
   "source": [
    "from collections import Counter\n",
    "import random\n",
    "import string"
   ]
  },
  {
   "cell_type": "code",
   "execution_count": 99,
   "metadata": {},
   "outputs": [],
   "source": [
    "# My Function\n",
    "\n",
    "def wordsInStringToDictWordCount(str):\n",
    "    \n",
    "    return_dict = {}\n",
    "    \n",
    "    if len(str) > 1:        \n",
    "        temp_list = str.split()\n",
    "        \n",
    "        for i in temp_list:\n",
    "            if i in return_dict:\n",
    "                return_dict[i] += 1\n",
    "            else:\n",
    "                return_dict[i] = 1\n",
    "                \n",
    "    return return_dict"
   ]
  },
  {
   "cell_type": "code",
   "execution_count": 100,
   "metadata": {},
   "outputs": [],
   "source": [
    "# Counter class\n",
    "def beatTheCounter(str):\n",
    "    cnt = Counter()\n",
    "    temp_list = str.split()\n",
    "    \n",
    "    for i in temp_list:\n",
    "        cnt[i] += 1\n",
    "\n",
    "    return cnt"
   ]
  },
  {
   "cell_type": "code",
   "execution_count": null,
   "metadata": {},
   "outputs": [],
   "source": [
    "# File IO\n",
    "# with open('')"
   ]
  },
  {
   "cell_type": "code",
   "execution_count": 105,
   "metadata": {
    "scrolled": false
   },
   "outputs": [],
   "source": [
    "# wordsInStringToDictWordCount(longstring)"
   ]
  },
  {
   "cell_type": "markdown",
   "metadata": {},
   "source": [
    "## Part C. Pytest for Regex"
   ]
  },
  {
   "cell_type": "code",
   "execution_count": null,
   "metadata": {},
   "outputs": [],
   "source": []
  },
  {
   "cell_type": "markdown",
   "metadata": {},
   "source": [
    "# Part D. CSV Files"
   ]
  },
  {
   "cell_type": "code",
   "execution_count": null,
   "metadata": {},
   "outputs": [],
   "source": []
  }
 ],
 "metadata": {
  "kernelspec": {
   "display_name": "Python 3",
   "language": "python",
   "name": "python3"
  },
  "language_info": {
   "codemirror_mode": {
    "name": "ipython",
    "version": 3
   },
   "file_extension": ".py",
   "mimetype": "text/x-python",
   "name": "python",
   "nbconvert_exporter": "python",
   "pygments_lexer": "ipython3",
   "version": "3.6.4"
  }
 },
 "nbformat": 4,
 "nbformat_minor": 2
}
