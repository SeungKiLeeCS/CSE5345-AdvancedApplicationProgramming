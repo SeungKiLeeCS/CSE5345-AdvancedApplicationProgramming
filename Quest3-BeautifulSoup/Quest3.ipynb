{
 "cells": [
  {
   "cell_type": "markdown",
   "metadata": {},
   "source": [
    "# Quest3"
   ]
  },
  {
   "cell_type": "markdown",
   "metadata": {},
   "source": [
    "## Part A. Web Scrapping"
   ]
  },
  {
   "cell_type": "code",
   "execution_count": 1,
   "metadata": {},
   "outputs": [],
   "source": [
    "from bs4 import BeautifulSoup as bs\n",
    "import requests as req\n",
    "import matplotlib.pyplot as plt\n",
    "import numpy as np\n",
    "import re"
   ]
  },
  {
   "cell_type": "code",
   "execution_count": 2,
   "metadata": {},
   "outputs": [],
   "source": [
    "res = req.get(\"https://www.nasdaq.com/quotes/stock-quotes.aspx\")"
   ]
  },
  {
   "cell_type": "code",
   "execution_count": 3,
   "metadata": {},
   "outputs": [],
   "source": [
    "soup = bs(res.content, \"html.parser\")"
   ]
  },
  {
   "cell_type": "markdown",
   "metadata": {},
   "source": [
    "## Parse HTML"
   ]
  },
  {
   "cell_type": "code",
   "execution_count": 4,
   "metadata": {},
   "outputs": [
    {
     "name": "stdout",
     "output_type": "stream",
     "text": [
      "['Micron', 'Invesco QQQ Trust', 'Marvell', 'Apple', 'Cronos']\n",
      "[33688369, 29437880, 24076650, 19023979, 18921566]\n",
      "[0.16, -0.45, -0.09, 0.38, 0.35]\n"
     ]
    },
    {
     "name": "stderr",
     "output_type": "stream",
     "text": [
      "/home/seungkilee/anaconda3/lib/python3.6/site-packages/ipykernel_launcher.py:15: DeprecationWarning: Flags not at the start of the expression '<td>(?s).*coName sma' (truncated)\n",
      "  from ipykernel import kernelapp as app\n",
      "/home/seungkilee/anaconda3/lib/python3.6/site-packages/ipykernel_launcher.py:22: DeprecationWarning: Flags not at the start of the expression '\\\\D.\\\\D(?s).*</span></' (truncated)\n"
     ]
    }
   ],
   "source": [
    "\n",
    "tableNode = soup.select('td')\n",
    "\n",
    "namelist = []\n",
    "volumelist = []\n",
    "percentlist = []\n",
    "\n",
    "# 1~20\n",
    "# 1 : Name\n",
    "# 3 : PctChange\n",
    "# 4 : Volume\n",
    "for i in range(1,21):\n",
    "    if i%4 == 0:\n",
    "        volumelist.append(int(str(tableNode[i]).replace('<td>', '').replace(' </td>', '').replace(',', '')))\n",
    "        conamestr = re.sub(r'</div>\\n</td>', '', re.sub(r'<td>(?s).*coName small\">', '', str(tableNode[i-3])))\n",
    "        conamestr = re.sub(r',(s?).*','',conamestr.replace('Inc.', '').replace('Group', '').replace('Ltd.', '').replace('Technology', ''))\n",
    "        namelist.append(conamestr.strip())\n",
    "        percentchange = str(tableNode[i-1])\n",
    "        if \"▼\" in percentchange:\n",
    "            percentchange = float('-' + re.sub(r'\\D.\\D(?s).*</span></td>', '', re.sub(r'<td><span class=\".*\">', '', str(tableNode[i-1]))))\n",
    "        else:\n",
    "            percentchange = float(re.sub(r'\\D.\\D(?s).*</span></td>', '', re.sub(r'<td><span class=\".*\">', '', str(tableNode[i-1]))))\n",
    "\n",
    "        percentlist.append(percentchange)\n",
    "\n",
    "print(namelist)\n",
    "print(volumelist)\n",
    "print(percentlist)"
   ]
  },
  {
   "cell_type": "markdown",
   "metadata": {},
   "source": [
    "## Volume"
   ]
  },
  {
   "cell_type": "code",
   "execution_count": 5,
   "metadata": {},
   "outputs": [],
   "source": [
    "%matplotlib inline\n",
    "\n",
    "x = namelist\n",
    "yval = volumelist\n",
    "x_pos = [i for i, _ in enumerate(x)]"
   ]
  },
  {
   "cell_type": "code",
   "execution_count": 6,
   "metadata": {},
   "outputs": [
    {
     "data": {
      "image/png": "[encoded data removed]",
      "text/plain": [
       "<matplotlib.figure.Figure at 0x7f5ac809ee80>"
      ]
     },
     "metadata": {},
     "output_type": "display_data"
    }
   ],
   "source": [
    "plt.figure(figsize=(10,6))\n",
    "plt.bar(x_pos, yval, color='green')\n",
    "plt.xticks(x_pos, x)\n",
    "plt.xlabel(\"Company\")\n",
    "plt.ylabel(\"Volume\")\n",
    "plt.title(\"Most Active Sept.7, 2018\")\n",
    "plt.show()"
   ]
  },
  {
   "cell_type": "code",
   "execution_count": 7,
   "metadata": {},
   "outputs": [],
   "source": [
    "%matplotlib inline\n",
    "\n",
    "x = namelist\n",
    "yval = percentlist\n",
    "x_pos = [i for i, _ in enumerate(x)]"
   ]
  },
  {
   "cell_type": "markdown",
   "metadata": {},
   "source": [
    "## Percent Change"
   ]
  },
  {
   "cell_type": "code",
   "execution_count": 8,
   "metadata": {},
   "outputs": [
    {
     "data": {
      "image/png": "[encoded data removed]",
      "text/plain": [
       "<matplotlib.figure.Figure at 0x7f5abfb4d1d0>"
      ]
     },
     "metadata": {},
     "output_type": "display_data"
    }
   ],
   "source": [
    "plt.figure(figsize=(10,6))\n",
    "plt.bar(x_pos, yval, color='red')\n",
    "plt.xticks(x_pos, x)\n",
    "plt.xlabel(\"Company\")\n",
    "plt.ylabel(\"Δ%\")\n",
    "plt.title(\"Percent Change Sept.7, 2018\")\n",
    "plt.show()"
   ]
  },
  {
   "cell_type": "markdown",
   "metadata": {},
   "source": [
    "## Part B. Timing Comparison"
   ]
  },
  {
   "cell_type": "code",
   "execution_count": 9,
   "metadata": {},
   "outputs": [],
   "source": [
    "from collections import Counter\n",
    "import random\n",
    "# import string"
   ]
  },
  {
   "cell_type": "code",
   "execution_count": 37,
   "metadata": {},
   "outputs": [],
   "source": [
    "# Utility function\n",
    "def runtime(f):\n",
    "    import timeit\n",
    "    start = timeit.default_timer()\n",
    "    f\n",
    "    end = timeit.default_timer()\n",
    "    print(end - start) "
   ]
  },
  {
   "cell_type": "code",
   "execution_count": 38,
   "metadata": {},
   "outputs": [],
   "source": [
    "# My Function\n",
    "def wordsInStringToDictWordCount(istr):\n",
    "    \n",
    "    return_dict = {}\n",
    "    \n",
    "    if len(istr) > 1:      \n",
    "        temp_list = istr.split()\n",
    "        \n",
    "        for i in temp_list:\n",
    "            if i in return_dict:\n",
    "                return_dict[i] += 1\n",
    "            else:\n",
    "                return_dict[i] = 1\n",
    "                \n",
    "    return return_dict"
   ]
  },
  {
   "cell_type": "code",
   "execution_count": 39,
   "metadata": {},
   "outputs": [],
   "source": [
    "# Counter class\n",
    "def beatTheCounter(istr):\n",
    "    cnt = Counter()\n",
    "    temp_list = istr.split()\n",
    "    \n",
    "    for i in temp_list:\n",
    "        cnt[i] += 1\n",
    "\n",
    "    return cnt"
   ]
  },
  {
   "cell_type": "code",
   "execution_count": 40,
   "metadata": {},
   "outputs": [],
   "source": [
    "# File IO from url\n",
    "# longstring = str(req.get('https://github.com/SeungKiLeeSMU/CSE5345-AdvancedApplicationProgramming/blob/master/Quest3-BeautifulSoup/lstring.txt').text.split())\n",
    "\n",
    "with open('lstring.txt', 'r') as fstr:\n",
    "    longstring = fstr.read().replace('\\n', ' ')"
   ]
  },
  {
   "cell_type": "code",
   "execution_count": 52,
   "metadata": {},
   "outputs": [
    {
     "name": "stdout",
     "output_type": "stream",
     "text": [
      "1.1169977369718254e-06\n",
      "5.789988790638745e-07\n"
     ]
    }
   ],
   "source": [
    "mytime = runtime(wordsInStringToDictWordCount(longstring))\n",
    "cnttime = runtime(beatTheCounter(longstring))"
   ]
  },
  {
   "cell_type": "markdown",
   "metadata": {},
   "source": [
    "The Counter Class took about half of the time it took for my function."
   ]
  },
  {
   "cell_type": "markdown",
   "metadata": {},
   "source": [
    "## Part C. Pytest for Regex"
   ]
  },
  {
   "cell_type": "code",
   "execution_count": null,
   "metadata": {},
   "outputs": [],
   "source": []
  },
  {
   "cell_type": "markdown",
   "metadata": {},
   "source": [
    "# Part D. CSV Files"
   ]
  },
  {
   "cell_type": "code",
   "execution_count": null,
   "metadata": {},
   "outputs": [],
   "source": []
  }
 ],
 "metadata": {
  "kernelspec": {
   "display_name": "Python 3",
   "language": "python",
   "name": "python3"
  },
  "language_info": {
   "codemirror_mode": {
    "name": "ipython",
    "version": 3
   },
   "file_extension": ".py",
   "mimetype": "text/x-python",
   "name": "python",
   "nbconvert_exporter": "python",
   "pygments_lexer": "ipython3",
   "version": "3.6.4"
  }
 },
 "nbformat": 4,
 "nbformat_minor": 2
}
