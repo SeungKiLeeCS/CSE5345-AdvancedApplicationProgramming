{
 "cells": [
  {
   "cell_type": "markdown",
   "metadata": {},
   "source": [
    "# Quest3"
   ]
  },
  {
   "cell_type": "markdown",
   "metadata": {},
   "source": [
    "## Part A. Web Scrapping"
   ]
  },
  {
   "cell_type": "code",
   "execution_count": 1,
   "metadata": {},
   "outputs": [],
   "source": [
    "from bs4 import BeautifulSoup as bs\n",
    "import requests as req\n",
    "import matplotlib.pyplot as plt\n",
    "import numpy as np\n",
    "import re\n",
    "import warnings\n",
    "warnings.filterwarnings('ignore')"
   ]
  },
  {
   "cell_type": "code",
   "execution_count": 2,
   "metadata": {},
   "outputs": [],
   "source": [
    "res = req.get(\"https://www.nasdaq.com/quotes/stock-quotes.aspx\")"
   ]
  },
  {
   "cell_type": "code",
   "execution_count": 3,
   "metadata": {},
   "outputs": [],
   "source": [
    "soup = bs(res.content, \"html.parser\")"
   ]
  },
  {
   "cell_type": "markdown",
   "metadata": {},
   "source": [
    "## Parse HTML"
   ]
  },
  {
   "cell_type": "code",
   "execution_count": 4,
   "metadata": {},
   "outputs": [
    {
     "name": "stdout",
     "output_type": "stream",
     "text": [
      "['Micron', 'Invesco QQQ Trust', 'Apple', 'Marvell', 'JD.com']\n",
      "[45632121, 40453097, 35791794, 35454503, 24782813]\n",
      "[0.21, -0.7, -1.8, -0.01, -0.3]\n"
     ]
    }
   ],
   "source": [
    "tableNode = soup.select('td')\n",
    "\n",
    "namelist = []\n",
    "volumelist = []\n",
    "percentlist = []\n",
    "\n",
    "# 1~20\n",
    "# 1 : Name\n",
    "# 3 : PctChange\n",
    "# 4 : Volume\n",
    "for i in range(1,21):\n",
    "    if i%4 == 0:\n",
    "        volumelist.append(int(str(tableNode[i]).replace('<td>', '').replace(' </td>', '').replace(',', '')))\n",
    "        conamestr = re.sub(r'</div>\\n</td>', '', re.sub(r'<td>(?s).*coName small\">', '', str(tableNode[i-3])))\n",
    "        conamestr = re.sub(r',(s?).*','',conamestr.replace('Inc.', '').replace('Group', '').replace('Ltd.', '').replace('Technology', ''))\n",
    "        namelist.append(conamestr.strip())\n",
    "        percentchange = str(tableNode[i-1])\n",
    "        if \"▼\" in percentchange:\n",
    "            percentchange = float('-' + re.sub(r'\\D.\\D(?s).*</span></td>', '', re.sub(r'<td><span class=\".*\">', '', str(tableNode[i-1]))))\n",
    "        else:\n",
    "            percentchange = float(re.sub(r'\\D.\\D(?s).*</span></td>', '', re.sub(r'<td><span class=\".*\">', '', str(tableNode[i-1]))))\n",
    "\n",
    "        percentlist.append(percentchange)\n",
    "\n",
    "print(namelist)\n",
    "print(volumelist)\n",
    "print(percentlist)"
   ]
  },
  {
   "cell_type": "markdown",
   "metadata": {},
   "source": [
    "## Volume"
   ]
  },
  {
   "cell_type": "code",
   "execution_count": 5,
   "metadata": {},
   "outputs": [],
   "source": [
    "%matplotlib inline\n",
    "\n",
    "x = namelist\n",
    "yval = volumelist\n",
    "x_pos = [i for i, _ in enumerate(x)]"
   ]
  },
  {
   "cell_type": "code",
   "execution_count": 6,
   "metadata": {},
   "outputs": [
    {
     "data": {
      "image/png": "[encoded data removed]",
      "text/plain": [
       "<matplotlib.figure.Figure at 0x7f406c4b1080>"
      ]
     },
     "metadata": {},
     "output_type": "display_data"
    }
   ],
   "source": [
    "plt.figure(figsize=(10,6))\n",
    "plt.bar(x_pos, yval, color='green')\n",
    "plt.xticks(x_pos, x)\n",
    "plt.xlabel(\"Company\")\n",
    "plt.ylabel(\"Volume\")\n",
    "plt.title(\"Most Active Sept.8, 2018\")\n",
    "plt.show()"
   ]
  },
  {
   "cell_type": "code",
   "execution_count": 7,
   "metadata": {},
   "outputs": [],
   "source": [
    "%matplotlib inline\n",
    "\n",
    "x = namelist\n",
    "yval = percentlist\n",
    "x_pos = [i for i, _ in enumerate(x)]"
   ]
  },
  {
   "cell_type": "markdown",
   "metadata": {},
   "source": [
    "## Percent Change"
   ]
  },
  {
   "cell_type": "code",
   "execution_count": 8,
   "metadata": {},
   "outputs": [
    {
     "data": {
      "image/png": "[encoded data removed]",
      "text/plain": [
       "<matplotlib.figure.Figure at 0x7f4063f59320>"
      ]
     },
     "metadata": {},
     "output_type": "display_data"
    }
   ],
   "source": [
    "plt.figure(figsize=(10,6))\n",
    "plt.bar(x_pos, yval, color='red')\n",
    "plt.xticks(x_pos, x)\n",
    "plt.xlabel(\"Company\")\n",
    "plt.ylabel(\"Δ%\")\n",
    "plt.title(\"Percent Change Sept.8, 2018\")\n",
    "plt.show()"
   ]
  },
  {
   "cell_type": "markdown",
   "metadata": {},
   "source": [
    "## Part B. Timing Comparison"
   ]
  },
  {
   "cell_type": "code",
   "execution_count": 9,
   "metadata": {},
   "outputs": [],
   "source": [
    "from collections import Counter\n",
    "import random\n",
    "from functools import reduce"
   ]
  },
  {
   "cell_type": "code",
   "execution_count": 10,
   "metadata": {},
   "outputs": [],
   "source": [
    "# Utility function\n",
    "def runtime(f):\n",
    "    import timeit\n",
    "    start = timeit.default_timer()\n",
    "    f\n",
    "    end = timeit.default_timer()\n",
    "    return(end - start) "
   ]
  },
  {
   "cell_type": "code",
   "execution_count": 11,
   "metadata": {},
   "outputs": [],
   "source": [
    "# My Function\n",
    "def wordsInStringToDictWordCount(istr):\n",
    "    \n",
    "    return_dict = {}\n",
    "    \n",
    "    if len(istr) > 1:      \n",
    "        temp_list = istr.split()\n",
    "        \n",
    "        for i in temp_list:\n",
    "            if i in return_dict:\n",
    "                return_dict[i] += 1\n",
    "            else:\n",
    "                return_dict[i] = 1\n",
    "                \n",
    "    return return_dict"
   ]
  },
  {
   "cell_type": "code",
   "execution_count": 12,
   "metadata": {},
   "outputs": [],
   "source": [
    "# Counter class\n",
    "def beatTheCounter(istr):\n",
    "    cnt = Counter()\n",
    "    temp_list = istr.split()\n",
    "    \n",
    "    for i in temp_list:\n",
    "        cnt[i] += 1\n",
    "\n",
    "    return cnt"
   ]
  },
  {
   "cell_type": "code",
   "execution_count": 13,
   "metadata": {},
   "outputs": [],
   "source": [
    "with open('./lstring.txt', 'r') as fstr:\n",
    "    longstring = fstr.read().replace('\\n', ' ')"
   ]
  },
  {
   "cell_type": "code",
   "execution_count": 14,
   "metadata": {
    "scrolled": true
   },
   "outputs": [
    {
     "name": "stdout",
     "output_type": "stream",
     "text": [
      "9.469986252952367e-07\n",
      "7.600028766319156e-07\n"
     ]
    }
   ],
   "source": [
    "mytime = runtime(wordsInStringToDictWordCount(longstring))\n",
    "cnttime = runtime(beatTheCounter(longstring))\n",
    "print (mytime)\n",
    "print (cnttime)"
   ]
  },
  {
   "cell_type": "code",
   "execution_count": 15,
   "metadata": {},
   "outputs": [],
   "source": [
    "mytimelist = []\n",
    "cnttimelist = []\n",
    "\n",
    "for i in range (0,100):\n",
    "    mytimelist.append(runtime(wordsInStringToDictWordCount(longstring)))\n",
    "    cnttimelist.append(runtime(beatTheCounter(longstring)))"
   ]
  },
  {
   "cell_type": "code",
   "execution_count": 16,
   "metadata": {},
   "outputs": [
    {
     "name": "stdout",
     "output_type": "stream",
     "text": [
      "8.029869284328434e-07\n",
      "6.558525732737519e-07\n"
     ]
    }
   ],
   "source": [
    "avg_mytime = reduce(lambda x, y: (x + y) / 2, mytimelist)\n",
    "avg_cnttime = reduce(lambda x, y: (x + y) / 2, cnttimelist)\n",
    "\n",
    "print (avg_mytime)\n",
    "print (avg_cnttime)"
   ]
  },
  {
   "cell_type": "markdown",
   "metadata": {},
   "source": [
    "## Graph"
   ]
  },
  {
   "cell_type": "code",
   "execution_count": 32,
   "metadata": {},
   "outputs": [],
   "source": [
    "%matplotlib inline\n",
    "\n",
    "yval = [avg_mytime, avg_cnttime]\n",
    "x = [\"Me\", \"Counter\"]\n",
    "x_pos = [i for i, _ in enumerate(x)]"
   ]
  },
  {
   "cell_type": "code",
   "execution_count": 33,
   "metadata": {},
   "outputs": [
    {
     "data": {
      "image/png": "[encoded data removed]",
      "text/plain": [
       "<matplotlib.figure.Figure at 0x7f4063e79da0>"
      ]
     },
     "metadata": {},
     "output_type": "display_data"
    }
   ],
   "source": [
    "plt.figure(figsize=(10,6))\n",
    "plt.bar(x, yval, color='gold')\n",
    "plt.xticks(x_pos, x)\n",
    "plt.xlabel(\"Performance\")\n",
    "plt.ylabel(\"Function Call By\")\n",
    "plt.title(\"Counter Performance\")\n",
    "plt.show()"
   ]
  },
  {
   "cell_type": "markdown",
   "metadata": {},
   "source": [
    "I won? Why?"
   ]
  },
  {
   "cell_type": "markdown",
   "metadata": {},
   "source": [
    "## Part C. Pytest for Regex"
   ]
  },
  {
   "cell_type": "code",
   "execution_count": 19,
   "metadata": {},
   "outputs": [],
   "source": [
    "import re\n",
    "\n",
    "def validEmail(address, regex):\n",
    "    return re.match(regex, address) is not None"
   ]
  },
  {
   "cell_type": "code",
   "execution_count": 20,
   "metadata": {},
   "outputs": [],
   "source": [
    "my_regex = r'^[A-Za-z0-9][A-Za-z0-9\\.]*[A-Za-z0-9]@{1}[a-zA-Z]{1}[A-Za-z\\_]*[a-zA-Z]\\.{1}[edu|org|com]'"
   ]
  },
  {
   "cell_type": "code",
   "execution_count": 21,
   "metadata": {},
   "outputs": [],
   "source": [
    "test_address = [\n",
    "    \"abc@smu.edu\",    # regular -> true\n",
    "    \"a.b.c@smu.edu\",  # multiple dots -> true\n",
    "    \".abc@smu.edu\",   # dot first -> false\n",
    "    \"abc.@smu.edu\",   # dot last -> false\n",
    "    \"abcsmu.edu\",     # no@ sign -> false\n",
    "    \"abc@s_m_u.edu\",  # underscore -> true\n",
    "    \"abc@_smu.edu\",   # _ first -> false\n",
    "    \"abc@smu_.edu\",   # _ last -> false\n",
    "    \"abc@5mu.edu\",    # number in d1 -> false\n",
    "    \"abc@smu.ecu\"     # .com, .org, .edu\n",
    "]"
   ]
  },
  {
   "cell_type": "code",
   "execution_count": 22,
   "metadata": {},
   "outputs": [
    {
     "data": {
      "text/plain": [
       "True"
      ]
     },
     "execution_count": 22,
     "metadata": {},
     "output_type": "execute_result"
    }
   ],
   "source": [
    "validEmail(\"This.can.be.one@Email_that_wilL_Satisfy_the_requirements.com\", my_regex)"
   ]
  },
  {
   "cell_type": "markdown",
   "metadata": {},
   "source": [
    "# Part D. CSV Files"
   ]
  },
  {
   "cell_type": "code",
   "execution_count": 23,
   "metadata": {
    "scrolled": true
   },
   "outputs": [],
   "source": [
    "import csv\n",
    "import sys\n",
    "import json\n",
    "import operator"
   ]
  },
  {
   "cell_type": "code",
   "execution_count": 24,
   "metadata": {},
   "outputs": [],
   "source": [
    "# example code from https://docs.python.org/3/library/csv.html\n",
    "templist= []\n",
    "with open('./worldcup.csv', newline='') as csvfile:\n",
    "    spamreader = csv.reader(csvfile, delimiter=' ', quotechar='|')\n",
    "    for row in spamreader:\n",
    "        templist.append(row)\n",
    "\n",
    "csvfile.close()"
   ]
  },
  {
   "cell_type": "code",
   "execution_count": 25,
   "metadata": {},
   "outputs": [],
   "source": [
    "anotherlist= []\n",
    "\n",
    "for i in templist:\n",
    "    for j in i:\n",
    "        anotherlist.append(j.split(','))\n",
    "\n",
    "\n",
    "jsonlist = []\n",
    "        \n",
    "for i in range(1,22):\n",
    "    a_json_obj = {\n",
    "        anotherlist[0][0]:anotherlist[i][0],        \n",
    "        anotherlist[0][1]:int(anotherlist[i][1]),        \n",
    "        anotherlist[0][2]:anotherlist[i][2],        \n",
    "        anotherlist[0][3]:anotherlist[i][3],        \n",
    "        anotherlist[0][4]:anotherlist[i][4],        \n",
    "        anotherlist[0][5]:anotherlist[i][5],        \n",
    "        anotherlist[0][6]:anotherlist[i][6],        \n",
    "        anotherlist[0][7]:int(anotherlist[i][7]),\n",
    "        anotherlist[0][8]:int(anotherlist[i][8]),        \n",
    "        anotherlist[0][9]:int(anotherlist[i][9])            \n",
    "    }\n",
    "    \n",
    "    jsonlist.append(a_json_obj)\n",
    "\n",
    "# print(json.dumps(jsonlist, indent=2))"
   ]
  },
  {
   "cell_type": "code",
   "execution_count": 26,
   "metadata": {},
   "outputs": [
    {
     "name": "stdout",
     "output_type": "stream",
     "text": [
      "[\n",
      "  {\n",
      "    \"WorldCup\": \"wc1998\",\n",
      "    \"year\": 1998,\n",
      "    \"location\": \"France\",\n",
      "    \"first\": \"France\",\n",
      "    \"second\": \"Brazil\",\n",
      "    \"third\": \"Croatia\",\n",
      "    \"fourth\": \"Netherlands\",\n",
      "    \"goalsScored\": 171,\n",
      "    \"matchesPlayed\": 64,\n",
      "    \"attendance\": 2785100\n",
      "  },\n",
      "  {\n",
      "    \"WorldCup\": \"wc2014\",\n",
      "    \"year\": 2014,\n",
      "    \"location\": \"Brazil\",\n",
      "    \"first\": \"Germany\",\n",
      "    \"second\": \"Argentina\",\n",
      "    \"third\": \"Netherlands\",\n",
      "    \"fourth\": \"Brazil\",\n",
      "    \"goalsScored\": 171,\n",
      "    \"matchesPlayed\": 64,\n",
      "    \"attendance\": 3386810\n",
      "  },\n",
      "  {\n",
      "    \"WorldCup\": \"wc2018\",\n",
      "    \"year\": 2018,\n",
      "    \"location\": \"Russia\",\n",
      "    \"first\": \"France\",\n",
      "    \"second\": \"Croatia\",\n",
      "    \"third\": \"Belgium\",\n",
      "    \"fourth\": \"England\",\n",
      "    \"goalsScored\": 169,\n",
      "    \"matchesPlayed\": 64,\n",
      "    \"attendance\": 3430000\n",
      "  },\n",
      "  {\n",
      "    \"WorldCup\": \"wc2002\",\n",
      "    \"year\": 2002,\n",
      "    \"location\": \"Korea_Japan\",\n",
      "    \"first\": \"Brazil\",\n",
      "    \"second\": \"Germany\",\n",
      "    \"third\": \"Turkey\",\n",
      "    \"fourth\": \"KoreaRepublic\",\n",
      "    \"goalsScored\": 161,\n",
      "    \"matchesPlayed\": 64,\n",
      "    \"attendance\": 2705197\n",
      "  },\n",
      "  {\n",
      "    \"WorldCup\": \"wc2006\",\n",
      "    \"year\": 2006,\n",
      "    \"location\": \"Germany\",\n",
      "    \"first\": \"Italy\",\n",
      "    \"second\": \"France\",\n",
      "    \"third\": \"Germany\",\n",
      "    \"fourth\": \"Portugal\",\n",
      "    \"goalsScored\": 147,\n",
      "    \"matchesPlayed\": 64,\n",
      "    \"attendance\": 3359439\n",
      "  }\n",
      "]\n"
     ]
    }
   ],
   "source": [
    "jsonlist = sorted(jsonlist, key=lambda k: k['goalsScored'], reverse=True)\n",
    "print(json.dumps(jsonlist[0:5], indent=2))"
   ]
  },
  {
   "cell_type": "code",
   "execution_count": 27,
   "metadata": {},
   "outputs": [
    {
     "name": "stdout",
     "output_type": "stream",
     "text": [
      "[1998, 2014, 2018, 2002, 2006]\n",
      "[171, 171, 169, 161, 147]\n"
     ]
    }
   ],
   "source": [
    "# Extract the two values needed\n",
    "yearlist = []\n",
    "goallist = []\n",
    "\n",
    "for i in range (0,5):\n",
    "    yearlist.append(jsonlist[i].get('year'))\n",
    "    goallist.append(jsonlist[i].get('goalsScored'))\n",
    "\n",
    "print (yearlist)\n",
    "print (goallist)"
   ]
  },
  {
   "cell_type": "code",
   "execution_count": 28,
   "metadata": {},
   "outputs": [],
   "source": [
    "%matplotlib inline\n",
    "\n",
    "x = yearlist\n",
    "yval = goallist\n",
    "x_pos = [i for i, _ in enumerate(x)]"
   ]
  },
  {
   "cell_type": "code",
   "execution_count": 29,
   "metadata": {},
   "outputs": [
    {
     "data": {
      "image/png": "[encoded data removed]",
      "text/plain": [
       "<matplotlib.figure.Figure at 0x7f406c4ffe80>"
      ]
     },
     "metadata": {},
     "output_type": "display_data"
    }
   ],
   "source": [
    "# Graph\n",
    "plt.figure(figsize=(10,6))\n",
    "plt.bar(x_pos, yval, color='blue')\n",
    "plt.xticks(x_pos, x)\n",
    "plt.xlabel(\"World Cup Year\")\n",
    "plt.ylabel(\"# of Goals\")\n",
    "plt.title(\"5 World Cups with Most Goals\")\n",
    "plt.show()"
   ]
  },
  {
   "cell_type": "code",
   "execution_count": null,
   "metadata": {},
   "outputs": [],
   "source": []
  }
 ],
 "metadata": {
  "kernelspec": {
   "display_name": "Python 3",
   "language": "python",
   "name": "python3"
  },
  "language_info": {
   "codemirror_mode": {
    "name": "ipython",
    "version": 3
   },
   "file_extension": ".py",
   "mimetype": "text/x-python",
   "name": "python",
   "nbconvert_exporter": "python",
   "pygments_lexer": "ipython3",
   "version": "3.6.4"
  }
 },
 "nbformat": 4,
 "nbformat_minor": 2
}
