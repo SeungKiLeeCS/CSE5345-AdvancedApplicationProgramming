{
 "cells": [
  {
   "cell_type": "markdown",
   "metadata": {},
   "source": [
    "# Quest 5. Pandas 2"
   ]
  },
  {
   "cell_type": "code",
   "execution_count": 1,
   "metadata": {},
   "outputs": [],
   "source": [
    "# Import Modules\n",
    "import pandas as pd"
   ]
  },
  {
   "cell_type": "markdown",
   "metadata": {},
   "source": [
    "## Part A. States and Area Codes"
   ]
  },
  {
   "cell_type": "code",
   "execution_count": 2,
   "metadata": {},
   "outputs": [
    {
     "data": {
      "text/html": [
       "<div>\n",
       "<style scoped>\n",
       "    .dataframe tbody tr th:only-of-type {\n",
       "        vertical-align: middle;\n",
       "    }\n",
       "\n",
       "    .dataframe tbody tr th {\n",
       "        vertical-align: top;\n",
       "    }\n",
       "\n",
       "    .dataframe thead th {\n",
       "        text-align: right;\n",
       "    }\n",
       "</style>\n",
       "<table border=\"1\" class=\"dataframe\">\n",
       "  <thead>\n",
       "    <tr style=\"text-align: right;\">\n",
       "      <th></th>\n",
       "      <th>Area code</th>\n",
       "      <th>State</th>\n",
       "      <th>State code</th>\n",
       "    </tr>\n",
       "  </thead>\n",
       "  <tbody>\n",
       "    <tr>\n",
       "      <th>246</th>\n",
       "      <td>907</td>\n",
       "      <td>Alaska</td>\n",
       "      <td>AK</td>\n",
       "    </tr>\n",
       "    <tr>\n",
       "      <th>41</th>\n",
       "      <td>302</td>\n",
       "      <td>Delaware</td>\n",
       "      <td>DE</td>\n",
       "    </tr>\n",
       "    <tr>\n",
       "      <th>211</th>\n",
       "      <td>808</td>\n",
       "      <td>Hawaii</td>\n",
       "      <td>HI</td>\n",
       "    </tr>\n",
       "    <tr>\n",
       "      <th>6</th>\n",
       "      <td>208</td>\n",
       "      <td>Idaho</td>\n",
       "      <td>ID</td>\n",
       "    </tr>\n",
       "    <tr>\n",
       "      <th>5</th>\n",
       "      <td>207</td>\n",
       "      <td>Maine</td>\n",
       "      <td>ME</td>\n",
       "    </tr>\n",
       "    <tr>\n",
       "      <th>76</th>\n",
       "      <td>406</td>\n",
       "      <td>Montana</td>\n",
       "      <td>MT</td>\n",
       "    </tr>\n",
       "    <tr>\n",
       "      <th>139</th>\n",
       "      <td>603</td>\n",
       "      <td>New Hampshire</td>\n",
       "      <td>NH</td>\n",
       "    </tr>\n",
       "    <tr>\n",
       "      <th>107</th>\n",
       "      <td>505</td>\n",
       "      <td>New Mexico</td>\n",
       "      <td>NM</td>\n",
       "    </tr>\n",
       "    <tr>\n",
       "      <th>169</th>\n",
       "      <td>701</td>\n",
       "      <td>North Dakota</td>\n",
       "      <td>ND</td>\n",
       "    </tr>\n",
       "    <tr>\n",
       "      <th>72</th>\n",
       "      <td>401</td>\n",
       "      <td>Rhode Island</td>\n",
       "      <td>RI</td>\n",
       "    </tr>\n",
       "    <tr>\n",
       "      <th>140</th>\n",
       "      <td>605</td>\n",
       "      <td>South Dakota</td>\n",
       "      <td>SD</td>\n",
       "    </tr>\n",
       "    <tr>\n",
       "      <th>206</th>\n",
       "      <td>802</td>\n",
       "      <td>Vermont</td>\n",
       "      <td>VT</td>\n",
       "    </tr>\n",
       "    <tr>\n",
       "      <th>43</th>\n",
       "      <td>304</td>\n",
       "      <td>West Virginia</td>\n",
       "      <td>WV</td>\n",
       "    </tr>\n",
       "    <tr>\n",
       "      <th>45</th>\n",
       "      <td>307</td>\n",
       "      <td>Wyoming</td>\n",
       "      <td>WY</td>\n",
       "    </tr>\n",
       "  </tbody>\n",
       "</table>\n",
       "</div>"
      ],
      "text/plain": [
       "     Area code          State State code\n",
       "246        907         Alaska         AK\n",
       "41         302       Delaware         DE\n",
       "211        808         Hawaii         HI\n",
       "6          208          Idaho         ID\n",
       "5          207          Maine         ME\n",
       "76         406        Montana         MT\n",
       "139        603  New Hampshire         NH\n",
       "107        505     New Mexico         NM\n",
       "169        701   North Dakota         ND\n",
       "72         401   Rhode Island         RI\n",
       "140        605   South Dakota         SD\n",
       "206        802        Vermont         VT\n",
       "43         304  West Virginia         WV\n",
       "45         307        Wyoming         WY"
      ]
     },
     "execution_count": 2,
     "metadata": {},
     "output_type": "execute_result"
    }
   ],
   "source": [
    "dfa = pd.read_csv('states.areacodes.csv')\n",
    "# Get rid of Washington,DC\n",
    "dfa = dfa[dfa.State != \"Washington,DC\"]\n",
    "# Only leave States with one area code, and sort alphabetically\n",
    "dfa = dfa[dfa.groupby('State').State.transform(len) == 1]\n",
    "dfa = dfa.sort_values(by='State')\n",
    "# Display dataframe\n",
    "dfa"
   ]
  },
  {
   "cell_type": "markdown",
   "metadata": {},
   "source": [
    "## Part B. Zipcodes and States"
   ]
  },
  {
   "cell_type": "code",
   "execution_count": 3,
   "metadata": {
    "scrolled": false
   },
   "outputs": [
    {
     "data": {
      "text/plain": [
       "<matplotlib.axes._subplots.AxesSubplot at 0x7f13e615d710>"
      ]
     },
     "execution_count": 3,
     "metadata": {},
     "output_type": "execute_result"
    },
    {
     "data": {
      "image/png": "[encoded data removed]",
      "text/plain": [
       "<matplotlib.figure.Figure at 0x7f13e6160cc0>"
      ]
     },
     "metadata": {},
     "output_type": "display_data"
    }
   ],
   "source": [
    "%matplotlib inline\n",
    "dfb = pd.read_csv('zipcodes.states.gps.csv')\n",
    "# get the count of zipcodes for each State/Area\n",
    "dfb = dfb.groupby('state').count()\n",
    "# sort the values for bar chart\n",
    "dfb = dfb.sort_values(by=\"zip_code\",ascending=False)\n",
    "# Adjust the figure size for visibility\n",
    "dfb.plot.bar(y='zip_code', figsize=(14,8))"
   ]
  },
  {
   "cell_type": "markdown",
   "metadata": {},
   "source": [
    "## Part C. Films"
   ]
  },
  {
   "cell_type": "code",
   "execution_count": 4,
   "metadata": {
    "scrolled": false
   },
   "outputs": [],
   "source": [
    "dfc = pd.read_csv('films2.csv')\n",
    "# Simply replace the value of the field\n",
    "dfc = dfc.replace('Westerns', 'Western')\n",
    "# If this results in any duplicates, drop that row\n",
    "dfc = dfc.drop_duplicates()"
   ]
  },
  {
   "cell_type": "code",
   "execution_count": 5,
   "metadata": {},
   "outputs": [],
   "source": [
    "# Get the highest number of appearances\n",
    "dfn = dfc.groupby('Subject')['Actor'].value_counts()"
   ]
  },
  {
   "cell_type": "code",
   "execution_count": 6,
   "metadata": {},
   "outputs": [
    {
     "name": "stdout",
     "output_type": "stream",
     "text": [
      "Subject          Actor            nFilms          \n",
      "Action           Connery, Sean    15              \n",
      "Comedy           Sellers, Peter   22              \n",
      "Drama            Brando, Marlon   17              \n",
      "Horror           Ford, Wallace    3               \n",
      "Mystery          Connery, Sean    3               \n",
      "Science Fiction  Hamill, Mark     3               \n",
      "War              Wayne, John      10              \n",
      "Western          Wayne, John      46              \n"
     ]
    }
   ],
   "source": [
    "subject_list = ['Action',\n",
    "'Adventure',\n",
    "'Comedy',\n",
    "'Crime',\n",
    "'Drama',\n",
    "'Fantasy',\n",
    "'Horror',\n",
    "'Music',\n",
    "'Mystery',\n",
    "'Romance',\n",
    "'Science Fiction',\n",
    "'Short',\n",
    "'War',\n",
    "'Western']\n",
    "\n",
    "print(\n",
    "    '{} {} {}'.format(\n",
    "        'Subject'.ljust(16), \n",
    "        'Actor'.ljust(16), \n",
    "        'nFilms'.ljust(16)\n",
    "    )\n",
    ")\n",
    "\n",
    "for i in subject_list:\n",
    "    # Only count where the max is greater than 1\n",
    "    if dfn[i].max() > 1:\n",
    "        # Parse through Pandas Series!\n",
    "        print(\n",
    "            '{} {} {}'.format(\n",
    "                str(i).ljust(16),\n",
    "                str(dfn[i].head(1).index[0]).ljust(16), \n",
    "                str(dfn[i].head(1)[0]).ljust(16)\n",
    "            )\n",
    "        )\n"
   ]
  },
  {
   "cell_type": "markdown",
   "metadata": {},
   "source": [
    "## Part D. Stock Trading & Moving Averages"
   ]
  },
  {
   "cell_type": "code",
   "execution_count": 7,
   "metadata": {},
   "outputs": [
    {
     "data": {
      "text/html": [
       "<div>\n",
       "<style scoped>\n",
       "    .dataframe tbody tr th:only-of-type {\n",
       "        vertical-align: middle;\n",
       "    }\n",
       "\n",
       "    .dataframe tbody tr th {\n",
       "        vertical-align: top;\n",
       "    }\n",
       "\n",
       "    .dataframe thead th {\n",
       "        text-align: right;\n",
       "    }\n",
       "</style>\n",
       "<table border=\"1\" class=\"dataframe\">\n",
       "  <thead>\n",
       "    <tr style=\"text-align: right;\">\n",
       "      <th></th>\n",
       "      <th>Date</th>\n",
       "      <th>SPY</th>\n",
       "    </tr>\n",
       "  </thead>\n",
       "  <tbody>\n",
       "    <tr>\n",
       "      <th>4701</th>\n",
       "      <td>2000-01-03</td>\n",
       "      <td>102.9308</td>\n",
       "    </tr>\n",
       "    <tr>\n",
       "      <th>4700</th>\n",
       "      <td>2000-01-04</td>\n",
       "      <td>98.9057</td>\n",
       "    </tr>\n",
       "    <tr>\n",
       "      <th>4699</th>\n",
       "      <td>2000-01-05</td>\n",
       "      <td>99.0826</td>\n",
       "    </tr>\n",
       "    <tr>\n",
       "      <th>4698</th>\n",
       "      <td>2000-01-06</td>\n",
       "      <td>97.4902</td>\n",
       "    </tr>\n",
       "    <tr>\n",
       "      <th>4697</th>\n",
       "      <td>2000-01-07</td>\n",
       "      <td>103.1521</td>\n",
       "    </tr>\n",
       "  </tbody>\n",
       "</table>\n",
       "</div>"
      ],
      "text/plain": [
       "           Date       SPY\n",
       "4701 2000-01-03  102.9308\n",
       "4700 2000-01-04   98.9057\n",
       "4699 2000-01-05   99.0826\n",
       "4698 2000-01-06   97.4902\n",
       "4697 2000-01-07  103.1521"
      ]
     },
     "execution_count": 7,
     "metadata": {},
     "output_type": "execute_result"
    }
   ],
   "source": [
    "# Read in and sort the csv\n",
    "dfd = pd.read_csv(\n",
    "    'SPY.histdata.csv', \n",
    "    parse_dates=['Date']\n",
    ").sort_values(by='Date')\n",
    "\n",
    "dfd.head()"
   ]
  },
  {
   "cell_type": "code",
   "execution_count": 8,
   "metadata": {
    "scrolled": false
   },
   "outputs": [
    {
     "data": {
      "text/html": [
       "<div>\n",
       "<style scoped>\n",
       "    .dataframe tbody tr th:only-of-type {\n",
       "        vertical-align: middle;\n",
       "    }\n",
       "\n",
       "    .dataframe tbody tr th {\n",
       "        vertical-align: top;\n",
       "    }\n",
       "\n",
       "    .dataframe thead th {\n",
       "        text-align: right;\n",
       "    }\n",
       "</style>\n",
       "<table border=\"1\" class=\"dataframe\">\n",
       "  <thead>\n",
       "    <tr style=\"text-align: right;\">\n",
       "      <th></th>\n",
       "      <th>Date</th>\n",
       "      <th>SPY</th>\n",
       "      <th>MA100</th>\n",
       "    </tr>\n",
       "  </thead>\n",
       "  <tbody>\n",
       "    <tr>\n",
       "      <th>4602</th>\n",
       "      <td>2000-05-24</td>\n",
       "      <td>99.5118</td>\n",
       "      <td>101.376287</td>\n",
       "    </tr>\n",
       "    <tr>\n",
       "      <th>4601</th>\n",
       "      <td>2000-05-25</td>\n",
       "      <td>97.8044</td>\n",
       "      <td>101.325023</td>\n",
       "    </tr>\n",
       "    <tr>\n",
       "      <th>4600</th>\n",
       "      <td>2000-05-26</td>\n",
       "      <td>97.9153</td>\n",
       "      <td>101.315119</td>\n",
       "    </tr>\n",
       "    <tr>\n",
       "      <th>4599</th>\n",
       "      <td>2000-05-30</td>\n",
       "      <td>101.1082</td>\n",
       "      <td>101.335375</td>\n",
       "    </tr>\n",
       "    <tr>\n",
       "      <th>4598</th>\n",
       "      <td>2000-05-31</td>\n",
       "      <td>101.3300</td>\n",
       "      <td>101.373773</td>\n",
       "    </tr>\n",
       "  </tbody>\n",
       "</table>\n",
       "</div>"
      ],
      "text/plain": [
       "           Date       SPY       MA100\n",
       "4602 2000-05-24   99.5118  101.376287\n",
       "4601 2000-05-25   97.8044  101.325023\n",
       "4600 2000-05-26   97.9153  101.315119\n",
       "4599 2000-05-30  101.1082  101.335375\n",
       "4598 2000-05-31  101.3300  101.373773"
      ]
     },
     "execution_count": 8,
     "metadata": {},
     "output_type": "execute_result"
    }
   ],
   "source": [
    "# Add column MA100\n",
    "dfd['MA100'] = dfd['SPY'].rolling(100).mean()\n",
    "# Drop first 99 Rows\n",
    "dfd = dfd.dropna()\n",
    "dfd.head()"
   ]
  },
  {
   "cell_type": "markdown",
   "metadata": {},
   "source": [
    "### Moving Average Strategy\n",
    "\n",
    "1. Assume you are investing all of your money every purchase\n",
    "\n",
    "2. Purchase stock if SPY >= MA and currently you have cash, which means you have no need for liquidation of current asset to purchase the stock.\n",
    "    - asset becomes cash * SPY rate\n",
    "    - cash becomes 0 because you spend all of it buying stock\n",
    "    - saved index becomes current SPY\n",
    "    \n",
    "3. Sell stock if SPY < MA\n",
    "    - cash becomes  \n",
    "    ${Cash_{before} \\times SPY_{curr}} \\over SPY_{before}$  \n",
    "    where $Cash_{before}$ is what you spent to purchase the stock  \n",
    "    - asset becomes 0, because you sell all your stock\n",
    "    \n",
    "### Buy and Hold Strategy\n",
    "\n",
    "1. Buy at initial equity, and sell at the end."
   ]
  },
  {
   "cell_type": "code",
   "execution_count": 9,
   "metadata": {},
   "outputs": [],
   "source": [
    "# Stock Trading Algorithm\n",
    "\n",
    "def moving_average(seed, df):\n",
    "    current_cash = seed\n",
    "    current_asset = 0.0\n",
    "    transaction_index = 0.0\n",
    "    cash_before = 0.0\n",
    "    \n",
    "    for index, row in df.iterrows():\n",
    "        \n",
    "        # Buy \n",
    "        if row['SPY'] >= row['MA100'] and current_cash > 0.0:\n",
    "            cash_before = current_cash\n",
    "            current_asset = current_cash*row['SPY']\n",
    "            current_cash = 0.0\n",
    "            transaction_index = row['SPY']\n",
    "        # Sell\n",
    "        elif row['SPY'] < row['MA100'] and current_cash is 0.0:\n",
    "            current_cash = float((cash_before*row['SPY'])/transaction_index)\n",
    "            current_asset = 0.0\n",
    "            transaction_index = row['SPY']\n",
    "        else:\n",
    "            continue\n",
    "\n",
    "    # In case we don't sell before comparison\n",
    "    if current_cash == 0.0:\n",
    "        current_cash = float(current_asset/transaction_index)\n",
    "    \n",
    "    # Compute gain/loss\n",
    "    percent_gain = ((current_cash-seed)/seed)*100.0\n",
    "\n",
    "    return percent_gain\n",
    "\n",
    "def buy_and_hold(seed, df):\n",
    "    counter = 0\n",
    "    current_SPY = 0.0\n",
    "\n",
    "    for index, row in df.iterrows():\n",
    "        if counter is 0:\n",
    "            start_SPY = row['SPY']\n",
    "            counter += 1\n",
    "        current_SPY = row['SPY']\n",
    "    \n",
    "    end_cash = float((current_SPY-start_SPY)*seed)\n",
    "    \n",
    "    percent_gain = ((end_cash-seed)/seed)\n",
    "    \n",
    "    return percent_gain"
   ]
  },
  {
   "cell_type": "code",
   "execution_count": 10,
   "metadata": {},
   "outputs": [
    {
     "name": "stdout",
     "output_type": "stream",
     "text": [
      "Moving Average:: 104.32777453032462%\n",
      "Buy and Hold: : 187.58820000000003%\n"
     ]
    }
   ],
   "source": [
    "print(\n",
    "    '{}: {}%'.format(\n",
    "        'Moving Average:', \n",
    "        moving_average(1000.0, dfd))\n",
    ")\n",
    "\n",
    "print(\n",
    "    '{}: {}%'.format(\n",
    "        'Buy and Hold: ', \n",
    "        buy_and_hold(1000.0, dfd))\n",
    ")"
   ]
  },
  {
   "cell_type": "markdown",
   "metadata": {},
   "source": [
    "The Moving Average strategy actually has much lower return than that of Buy and Hold! Alright, going to buy some Amazon Stock and gonna forget about it for 20 years now."
   ]
  }
 ],
 "metadata": {
  "kernelspec": {
   "display_name": "Python 3",
   "language": "python",
   "name": "python3"
  },
  "language_info": {
   "codemirror_mode": {
    "name": "ipython",
    "version": 3
   },
   "file_extension": ".py",
   "mimetype": "text/x-python",
   "name": "python",
   "nbconvert_exporter": "python",
   "pygments_lexer": "ipython3",
   "version": "3.6.4"
  }
 },
 "nbformat": 4,
 "nbformat_minor": 2
}
